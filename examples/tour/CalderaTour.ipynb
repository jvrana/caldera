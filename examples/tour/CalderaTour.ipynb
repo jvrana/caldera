{
 "cells": [
  {
   "cell_type": "code",
   "execution_count": 1,
   "metadata": {},
   "outputs": [],
   "source": [
    "##########################################################\n",
    "# Relative Imports\n",
    "##########################################################\n",
    "import sys\n",
    "from os.path import isfile\n",
    "from os.path import join\n",
    "\n",
    "\n",
    "def find_pkg(name: str, depth: int):\n",
    "    if depth <= 0:\n",
    "        ret = None\n",
    "    else:\n",
    "        d = [\"..\"] * depth\n",
    "        path_parts = d + [name, \"__init__.py\"]\n",
    "\n",
    "        if isfile(join(*path_parts)):\n",
    "            ret = d\n",
    "        else:\n",
    "            ret = find_pkg(name, depth - 1)\n",
    "    return ret\n",
    "\n",
    "\n",
    "def find_and_ins_syspath(name: str, depth: int):\n",
    "    path_parts = find_pkg(name, depth)\n",
    "    if path_parts is None:\n",
    "        raise RuntimeError(\"Could not find {}. Try increasing depth.\".format(name))\n",
    "    path = join(*path_parts)\n",
    "    if path not in sys.path:\n",
    "        sys.path.insert(0, path)\n",
    "\n",
    "\n",
    "try:\n",
    "    import caldera\n",
    "except ImportError:\n",
    "    find_and_ins_syspath(\"caldera\", 3)"
   ]
  },
  {
   "cell_type": "markdown",
   "metadata": {},
   "source": [
    "# Caldera"
   ]
  },
  {
   "cell_type": "code",
   "execution_count": 2,
   "metadata": {},
   "outputs": [],
   "source": [
    "import caldera"
   ]
  },
  {
   "cell_type": "markdown",
   "metadata": {},
   "source": [
    "## Data tour"
   ]
  },
  {
   "cell_type": "markdown",
   "metadata": {},
   "source": [
    "### GraphData\n",
    "\n",
    "The primary data object used by caldera. We can generate random objects by using `GraphData.random` for testing and demo purposes..."
   ]
  },
  {
   "cell_type": "code",
   "execution_count": 3,
   "metadata": {},
   "outputs": [
    {
     "data": {
      "text/plain": [
       "<GraphData size(n,e,g)=torch.Size([2, 8, 1]) features(n,e,g)=torch.Size([5, 4, 3])>"
      ]
     },
     "execution_count": 3,
     "metadata": {},
     "output_type": "execute_result"
    }
   ],
   "source": [
    "from caldera.data import GraphData\n",
    "\n",
    "data = GraphData.random(n_feat=5, e_feat=4, g_feat=3)\n",
    "data"
   ]
  },
  {
   "cell_type": "markdown",
   "metadata": {},
   "source": [
    "`GraphData` instances contain node tensor (`data.x`), edge tensor (`data.e`) and global tensor (`data.g`). They also keep graph topology\n",
    "via and edge list, `data.edges`, which indicates edges by node indices. Note that this mean graphs are MultiGraphs (multiple edges between same nodes allowed)"
   ]
  },
  {
   "cell_type": "markdown",
   "metadata": {},
   "source": [
    "#### node features\n",
    "\n",
    "Each node gets a tensor. These tensors are stack into `data.x`"
   ]
  },
  {
   "cell_type": "code",
   "execution_count": 4,
   "metadata": {},
   "outputs": [
    {
     "name": "stdout",
     "output_type": "stream",
     "text": [
      "We have 2 nodes\n",
      "Each node has a feature tensor of shape 5\n",
      "Overall shape: torch.Size([2, 5])\n"
     ]
    },
    {
     "data": {
      "text/plain": [
       "tensor([[ 0.2496, -0.3646,  0.3904, -0.4723, -0.5130],\n",
       "        [-1.4683,  1.2624, -0.1099, -0.1572, -0.9023]])"
      ]
     },
     "execution_count": 4,
     "metadata": {},
     "output_type": "execute_result"
    }
   ],
   "source": [
    "print('We have {} nodes'.format(data.x.shape[0]))\n",
    "print('Each node has a feature tensor of shape {}'.format(data.x.shape[1]))\n",
    "print(\"Overall shape: {}\".format(data.x.shape))\n",
    "data.x"
   ]
  },
  {
   "cell_type": "markdown",
   "metadata": {},
   "source": [
    "#### edge features\n",
    "\n",
    "Each edge gets a tensor. These tensors are stack into `data.e`"
   ]
  },
  {
   "cell_type": "code",
   "execution_count": 5,
   "metadata": {},
   "outputs": [
    {
     "name": "stdout",
     "output_type": "stream",
     "text": [
      "We have 8 edge(s)\n",
      "Each edge has a feature tensor of shape 4\n",
      "Overall shape: torch.Size([8, 4])\n"
     ]
    },
    {
     "data": {
      "text/plain": [
       "tensor([[ 0.2496, -0.3646,  0.3904, -0.4723, -0.5130],\n",
       "        [-1.4683,  1.2624, -0.1099, -0.1572, -0.9023]])"
      ]
     },
     "execution_count": 5,
     "metadata": {},
     "output_type": "execute_result"
    }
   ],
   "source": [
    "print('We have {} edge(s)'.format(data.e.shape[0]))\n",
    "print('Each edge has a feature tensor of shape {}'.format(data.e.shape[1]))\n",
    "print(\"Overall shape: {}\".format(data.e.shape))\n",
    "data.x"
   ]
  },
  {
   "cell_type": "markdown",
   "metadata": {},
   "source": [
    "#### global features\n",
    "\n",
    "Each graph gets a single global tensor. These tensors are stack into `data.g`. \n",
    "\n",
    "We may use this, for example, to label each graph with a category."
   ]
  },
  {
   "cell_type": "code",
   "execution_count": 6,
   "metadata": {},
   "outputs": [
    {
     "name": "stdout",
     "output_type": "stream",
     "text": [
      "We have a single global tensor of shape torch.Size([1, 3])\n"
     ]
    },
    {
     "data": {
      "text/plain": [
       "tensor([[-0.1705, -1.5258, -0.8309]])"
      ]
     },
     "execution_count": 6,
     "metadata": {},
     "output_type": "execute_result"
    }
   ],
   "source": [
    "print('We have a single global tensor of shape {}'.format(data.g.shape))\n",
    "data.g"
   ]
  },
  {
   "cell_type": "markdown",
   "metadata": {},
   "source": [
    "#### edges\n",
    "\n",
    "Graph topology is store in the `data.edges` attribute. This indicates which nodes (by index) are connected."
   ]
  },
  {
   "cell_type": "code",
   "execution_count": 7,
   "metadata": {},
   "outputs": [
    {
     "data": {
      "text/plain": [
       "tensor([[1, 0, 0, 1, 0, 1, 1, 0],\n",
       "        [1, 1, 1, 0, 0, 0, 0, 1]])"
      ]
     },
     "execution_count": 7,
     "metadata": {},
     "output_type": "execute_result"
    }
   ],
   "source": [
    "data.edges"
   ]
  },
  {
   "cell_type": "markdown",
   "metadata": {},
   "source": [
    "### Conversion\n",
    "\n",
    "We can convert `GraphData` instances to and from networkx instances (graphs)."
   ]
  },
  {
   "cell_type": "code",
   "execution_count": 8,
   "metadata": {},
   "outputs": [
    {
     "name": "stdout",
     "output_type": "stream",
     "text": [
      "<GraphData size(n,e,g)=torch.Size([11, 3, 1]) features(n,e,g)=torch.Size([5, 4, 3])>\n",
      "tensor([[ 4,  7,  0],\n",
      "        [ 3,  6, 10]])\n"
     ]
    },
    {
     "data": {
      "image/png": "[encoded data removed]",
      "text/plain": [
       "<Figure size 432x288 with 1 Axes>"
      ]
     },
     "metadata": {},
     "output_type": "display_data"
    }
   ],
   "source": [
    "import networkx as nx\n",
    "%matplotlib inline\n",
    "\n",
    "data = GraphData.random(5, 4, 3)\n",
    "\n",
    "# convert to a networkx object\n",
    "graph = data.to_networkx()\n",
    "\n",
    "# draw\n",
    "nx.draw(graph)\n",
    "\n",
    "# convert back to GraphData object\n",
    "from_nx = GraphData.from_networkx(graph)\n",
    "print(from_nx)\n",
    "print(data.edges)"
   ]
  },
  {
   "cell_type": "markdown",
   "metadata": {},
   "source": [
    "## GraphBatches\n",
    "\n",
    "We can represent multiple graphs using a GraphBatch."
   ]
  },
  {
   "cell_type": "code",
   "execution_count": 9,
   "metadata": {},
   "outputs": [],
   "source": [
    "from caldera.data import GraphBatch\n",
    "\n",
    "data_list = [GraphData.random(5, 4, 3), GraphData.random(5, 4, 3)]\n",
    "batch = GraphBatch.from_data_list(data_list)\n"
   ]
  },
  {
   "cell_type": "markdown",
   "metadata": {},
   "source": [
    "# Common Questions\n",
    "\n",
    "**How does caldera handle arbitrary sized graphs? I thought neural networks had to have defined input-output dimensions.**\n",
    "\n",
    "It does! However, Pytorch can handle arbitrary `batch` sizes. Lets check this out on a simple `torch.nn.Linear` module.\n",
    "\n",
    "**Does caldera do anything really special?**\n",
    "\n",
    "No not really. Just as PyTorch does not do anything really that special. They are both frameworks to generate and train neural networks. In both, the implementation and API are intimately linked to the construction of neural networks. Caldera has specialized classes and methods to handle graph-like data as torch.Tensor objects and specialized NN construction methods."
   ]
  },
  {
   "cell_type": "code",
   "execution_count": 10,
   "metadata": {},
   "outputs": [
    {
     "data": {
      "text/plain": [
       "tensor([[-0.6517,  0.8182],\n",
       "        [ 0.9411,  0.2952],\n",
       "        [-0.3964, -0.5660]], grad_fn=<AddmmBackward>)"
      ]
     },
     "execution_count": 10,
     "metadata": {},
     "output_type": "execute_result"
    }
   ],
   "source": [
    "import torch\n",
    "\n",
    "# we create some random data \n",
    "# we have a batch size of 3\n",
    "# and we have 10 features\n",
    "x = torch.randn(3, 10)\n",
    "lin = torch.nn.Linear(10, 2)\n",
    "lin(x)"
   ]
  },
  {
   "cell_type": "code",
   "execution_count": 11,
   "metadata": {},
   "outputs": [
    {
     "ename": "RuntimeError",
     "evalue": "size mismatch, m1: [3 x 10], m2: [11 x 2] at /opt/conda/conda-bld/pytorch_1595629403081/work/aten/src/TH/generic/THTensorMath.cpp:41",
     "output_type": "error",
     "traceback": [
      "\u001B[0;31m---------------------------------------------------------------------------\u001B[0m",
      "\u001B[0;31mRuntimeError\u001B[0m                              Traceback (most recent call last)",
      "\u001B[0;32m<ipython-input-11-43f6e26a524c>\u001B[0m in \u001B[0;36m<module>\u001B[0;34m\u001B[0m\n\u001B[1;32m      3\u001B[0m \u001B[0mx\u001B[0m \u001B[0;34m=\u001B[0m \u001B[0mtorch\u001B[0m\u001B[0;34m.\u001B[0m\u001B[0mrandn\u001B[0m\u001B[0;34m(\u001B[0m\u001B[0;36m3\u001B[0m\u001B[0;34m,\u001B[0m \u001B[0;36m10\u001B[0m\u001B[0;34m)\u001B[0m\u001B[0;34m\u001B[0m\u001B[0;34m\u001B[0m\u001B[0m\n\u001B[1;32m      4\u001B[0m \u001B[0mlin\u001B[0m \u001B[0;34m=\u001B[0m \u001B[0mtorch\u001B[0m\u001B[0;34m.\u001B[0m\u001B[0mnn\u001B[0m\u001B[0;34m.\u001B[0m\u001B[0mLinear\u001B[0m\u001B[0;34m(\u001B[0m\u001B[0;36m11\u001B[0m\u001B[0;34m,\u001B[0m \u001B[0;36m2\u001B[0m\u001B[0;34m)\u001B[0m\u001B[0;34m\u001B[0m\u001B[0;34m\u001B[0m\u001B[0m\n\u001B[0;32m----> 5\u001B[0;31m \u001B[0mlin\u001B[0m\u001B[0;34m(\u001B[0m\u001B[0mx\u001B[0m\u001B[0;34m)\u001B[0m\u001B[0;34m\u001B[0m\u001B[0;34m\u001B[0m\u001B[0m\n\u001B[0m",
      "\u001B[0;32m~/anaconda3/envs/caldera/lib/python3.7/site-packages/torch/nn/modules/module.py\u001B[0m in \u001B[0;36m_call_impl\u001B[0;34m(self, *input, **kwargs)\u001B[0m\n\u001B[1;32m    720\u001B[0m             \u001B[0mresult\u001B[0m \u001B[0;34m=\u001B[0m \u001B[0mself\u001B[0m\u001B[0;34m.\u001B[0m\u001B[0m_slow_forward\u001B[0m\u001B[0;34m(\u001B[0m\u001B[0;34m*\u001B[0m\u001B[0minput\u001B[0m\u001B[0;34m,\u001B[0m \u001B[0;34m**\u001B[0m\u001B[0mkwargs\u001B[0m\u001B[0;34m)\u001B[0m\u001B[0;34m\u001B[0m\u001B[0;34m\u001B[0m\u001B[0m\n\u001B[1;32m    721\u001B[0m         \u001B[0;32melse\u001B[0m\u001B[0;34m:\u001B[0m\u001B[0;34m\u001B[0m\u001B[0;34m\u001B[0m\u001B[0m\n\u001B[0;32m--> 722\u001B[0;31m             \u001B[0mresult\u001B[0m \u001B[0;34m=\u001B[0m \u001B[0mself\u001B[0m\u001B[0;34m.\u001B[0m\u001B[0mforward\u001B[0m\u001B[0;34m(\u001B[0m\u001B[0;34m*\u001B[0m\u001B[0minput\u001B[0m\u001B[0;34m,\u001B[0m \u001B[0;34m**\u001B[0m\u001B[0mkwargs\u001B[0m\u001B[0;34m)\u001B[0m\u001B[0;34m\u001B[0m\u001B[0;34m\u001B[0m\u001B[0m\n\u001B[0m\u001B[1;32m    723\u001B[0m         for hook in itertools.chain(\n\u001B[1;32m    724\u001B[0m                 \u001B[0m_global_forward_hooks\u001B[0m\u001B[0;34m.\u001B[0m\u001B[0mvalues\u001B[0m\u001B[0;34m(\u001B[0m\u001B[0;34m)\u001B[0m\u001B[0;34m,\u001B[0m\u001B[0;34m\u001B[0m\u001B[0;34m\u001B[0m\u001B[0m\n",
      "\u001B[0;32m~/anaconda3/envs/caldera/lib/python3.7/site-packages/torch/nn/modules/linear.py\u001B[0m in \u001B[0;36mforward\u001B[0;34m(self, input)\u001B[0m\n\u001B[1;32m     89\u001B[0m \u001B[0;34m\u001B[0m\u001B[0m\n\u001B[1;32m     90\u001B[0m     \u001B[0;32mdef\u001B[0m \u001B[0mforward\u001B[0m\u001B[0;34m(\u001B[0m\u001B[0mself\u001B[0m\u001B[0;34m,\u001B[0m \u001B[0minput\u001B[0m\u001B[0;34m:\u001B[0m \u001B[0mTensor\u001B[0m\u001B[0;34m)\u001B[0m \u001B[0;34m->\u001B[0m \u001B[0mTensor\u001B[0m\u001B[0;34m:\u001B[0m\u001B[0;34m\u001B[0m\u001B[0;34m\u001B[0m\u001B[0m\n\u001B[0;32m---> 91\u001B[0;31m         \u001B[0;32mreturn\u001B[0m \u001B[0mF\u001B[0m\u001B[0;34m.\u001B[0m\u001B[0mlinear\u001B[0m\u001B[0;34m(\u001B[0m\u001B[0minput\u001B[0m\u001B[0;34m,\u001B[0m \u001B[0mself\u001B[0m\u001B[0;34m.\u001B[0m\u001B[0mweight\u001B[0m\u001B[0;34m,\u001B[0m \u001B[0mself\u001B[0m\u001B[0;34m.\u001B[0m\u001B[0mbias\u001B[0m\u001B[0;34m)\u001B[0m\u001B[0;34m\u001B[0m\u001B[0;34m\u001B[0m\u001B[0m\n\u001B[0m\u001B[1;32m     92\u001B[0m \u001B[0;34m\u001B[0m\u001B[0m\n\u001B[1;32m     93\u001B[0m     \u001B[0;32mdef\u001B[0m \u001B[0mextra_repr\u001B[0m\u001B[0;34m(\u001B[0m\u001B[0mself\u001B[0m\u001B[0;34m)\u001B[0m \u001B[0;34m->\u001B[0m \u001B[0mstr\u001B[0m\u001B[0;34m:\u001B[0m\u001B[0;34m\u001B[0m\u001B[0;34m\u001B[0m\u001B[0m\n",
      "\u001B[0;32m~/anaconda3/envs/caldera/lib/python3.7/site-packages/torch/nn/functional.py\u001B[0m in \u001B[0;36mlinear\u001B[0;34m(input, weight, bias)\u001B[0m\n\u001B[1;32m   1672\u001B[0m     \u001B[0;32mif\u001B[0m \u001B[0minput\u001B[0m\u001B[0;34m.\u001B[0m\u001B[0mdim\u001B[0m\u001B[0;34m(\u001B[0m\u001B[0;34m)\u001B[0m \u001B[0;34m==\u001B[0m \u001B[0;36m2\u001B[0m \u001B[0;32mand\u001B[0m \u001B[0mbias\u001B[0m \u001B[0;32mis\u001B[0m \u001B[0;32mnot\u001B[0m \u001B[0;32mNone\u001B[0m\u001B[0;34m:\u001B[0m\u001B[0;34m\u001B[0m\u001B[0;34m\u001B[0m\u001B[0m\n\u001B[1;32m   1673\u001B[0m         \u001B[0;31m# fused op is marginally faster\u001B[0m\u001B[0;34m\u001B[0m\u001B[0;34m\u001B[0m\u001B[0;34m\u001B[0m\u001B[0m\n\u001B[0;32m-> 1674\u001B[0;31m         \u001B[0mret\u001B[0m \u001B[0;34m=\u001B[0m \u001B[0mtorch\u001B[0m\u001B[0;34m.\u001B[0m\u001B[0maddmm\u001B[0m\u001B[0;34m(\u001B[0m\u001B[0mbias\u001B[0m\u001B[0;34m,\u001B[0m \u001B[0minput\u001B[0m\u001B[0;34m,\u001B[0m \u001B[0mweight\u001B[0m\u001B[0;34m.\u001B[0m\u001B[0mt\u001B[0m\u001B[0;34m(\u001B[0m\u001B[0;34m)\u001B[0m\u001B[0;34m)\u001B[0m\u001B[0;34m\u001B[0m\u001B[0;34m\u001B[0m\u001B[0m\n\u001B[0m\u001B[1;32m   1675\u001B[0m     \u001B[0;32melse\u001B[0m\u001B[0;34m:\u001B[0m\u001B[0;34m\u001B[0m\u001B[0;34m\u001B[0m\u001B[0m\n\u001B[1;32m   1676\u001B[0m         \u001B[0moutput\u001B[0m \u001B[0;34m=\u001B[0m \u001B[0minput\u001B[0m\u001B[0;34m.\u001B[0m\u001B[0mmatmul\u001B[0m\u001B[0;34m(\u001B[0m\u001B[0mweight\u001B[0m\u001B[0;34m.\u001B[0m\u001B[0mt\u001B[0m\u001B[0;34m(\u001B[0m\u001B[0;34m)\u001B[0m\u001B[0;34m)\u001B[0m\u001B[0;34m\u001B[0m\u001B[0;34m\u001B[0m\u001B[0m\n",
      "\u001B[0;31mRuntimeError\u001B[0m: size mismatch, m1: [3 x 10], m2: [11 x 2] at /opt/conda/conda-bld/pytorch_1595629403081/work/aten/src/TH/generic/THTensorMath.cpp:41"
     ]
    }
   ],
   "source": [
    "# notice how this does not work\n",
    "# if there is a size mismatch\n",
    "x = torch.randn(3, 10)\n",
    "lin = torch.nn.Linear(11, 2)\n",
    "lin(x)"
   ]
  },
  {
   "cell_type": "markdown",
   "metadata": {},
   "source": [
    "Now, knowing that Pytorch handles arbitrary dimensions (in the first dimension), we can batch together a graphs along their `node`, `edge` or `global` features.\n",
    "\n",
    "For example, lets say we have a graph with 2 nodes, 0 edges and a graph with 5 nodes, and 2 edges"
   ]
  },
  {
   "cell_type": "code",
   "execution_count": 13,
   "metadata": {},
   "outputs": [
    {
     "ename": "SyntaxError",
     "evalue": "invalid syntax (<ipython-input-13-91b27513e360>, line 26)",
     "output_type": "error",
     "traceback": [
      "\u001B[0;36m  File \u001B[0;32m\"<ipython-input-13-91b27513e360>\"\u001B[0;36m, line \u001B[0;32m26\u001B[0m\n\u001B[0;31m    assert edges.shape[0] = edges.shape[0]\u001B[0m\n\u001B[0m                          ^\u001B[0m\n\u001B[0;31mSyntaxError\u001B[0m\u001B[0;31m:\u001B[0m invalid syntax\n"
     ]
    }
   ],
   "source": [
    "from caldera.data import GraphData\n",
    "\n",
    "\n",
    "nodes = torch.tensor([\n",
    "    [0, 0, 0],  # node 0\n",
    "    [1, 0, 0],  # node 1\n",
    "    [0, 1, 0],  # node 2\n",
    "    [0, 1, 0]   # node 3\n",
    "])\n",
    "edges = torch.tensor([\n",
    "    [0],  # edge 0\n",
    "    [0],  # edge 1\n",
    "    [1]   # edge 2\n",
    "])\n",
    "\n",
    "\n",
    "# edges 0-->1, 2-->3, 3-->0\n",
    "edges = torch.tensor([\n",
    "    \n",
    "    [0, 2, 3],\n",
    "    [1, 3, 0]\n",
    "#    ^  ^  ^\n",
    "#    0  1  2\n",
    "])\n",
    "\n",
    "assert edges.shape[0] = edges.shape[0]"
   ]
  },
  {
   "cell_type": "markdown",
   "metadata": {},
   "source": [
    "Now how do we batch graphs together? Lets just concatenate nodes, edges, and globals...\n",
    "\n",
    "We will keep track of which node belongs to which graph using `torch.LongTensor` (`node_idx`)\n",
    "and track which edge belongs to which graph using `edge_idx`. "
   ]
  },
  {
   "cell_type": "markdown",
   "metadata": {},
   "source": [
    "# torch modules\n",
    "\n",
    "Here we discuss how to inherit torch modules.\n"
   ]
  },
  {
   "cell_type": "markdown",
   "metadata": {},
   "source": [
    "## Basic Graph Encoder"
   ]
  },
  {
   "cell_type": "markdown",
   "metadata": {},
   "source": [
    "### Blocks\n",
    "\n",
    "Here we discuss the basic building blocks for all of caldera's neural networks. The EdgeBlock, NodeBlock, and GlobalBlock. Within each block, we can have *arbitrary* modules. Really, these can be anything we want. \n",
    "\n",
    "#### Dense \n",
    "\n",
    "This is your basic multi-layer perceptron (a fancy term for a dense neural network). To begin, lets go over how pytorch modules and forward propogation works"
   ]
  },
  {
   "cell_type": "code",
   "execution_count": 14,
   "metadata": {},
   "outputs": [
    {
     "name": "stdout",
     "output_type": "stream",
     "text": [
      "torch.Size([20, 10])\n",
      "torch.Size([20, 1])\n"
     ]
    }
   ],
   "source": [
    "from torch import nn\n",
    "\n",
    "# initialize our toy network\n",
    "lin1 = nn.Linear(10, 5)\n",
    "act1 = nn.ReLU()\n",
    "lin2 = nn.Linear(5, 2)\n",
    "act2 = nn.ReLU()\n",
    "lin3 = nn.Linear(2, 5)\n",
    "act3 = nn.ReLU()\n",
    "lin4 = nn.Linear(5, 1)\n",
    "act4 = nn.Sigmoid()\n",
    "\n",
    "# some fake data\n",
    "x = torch.randn(20, 10) # note that the second dimension MUST be 10 since lin1 input dim is 10\n",
    "                        # 20 is the batch size and can be any number\n",
    "    \n",
    "# forward propogation\n",
    "print(x.shape)\n",
    "x = lin1(x)\n",
    "x = act1(x)\n",
    "x = lin2(x)\n",
    "x = act2(x)\n",
    "x = lin3(x)\n",
    "x = act3(x)\n",
    "x = lin4(x)\n",
    "x = act4(x)\n",
    "print(x.shape)"
   ]
  },
  {
   "cell_type": "markdown",
   "metadata": {},
   "source": [
    "We could do essentially the same thing using pytorch's standard Sequential model. The `Sequential` model takes a list of other modules and connects them together sequentially."
   ]
  },
  {
   "cell_type": "code",
   "execution_count": 15,
   "metadata": {},
   "outputs": [
    {
     "data": {
      "text/plain": [
       "tensor([[0.0000],\n",
       "        [0.0000],\n",
       "        [0.0000],\n",
       "        [0.0000],\n",
       "        [0.0000],\n",
       "        [0.0000],\n",
       "        [0.0000],\n",
       "        [0.0000],\n",
       "        [0.0000],\n",
       "        [0.3305],\n",
       "        [0.0000],\n",
       "        [0.0000],\n",
       "        [0.0000],\n",
       "        [0.0000],\n",
       "        [0.0000],\n",
       "        [0.0000],\n",
       "        [0.0000],\n",
       "        [0.0000],\n",
       "        [0.0000],\n",
       "        [0.0000]], grad_fn=<ReluBackward0>)"
      ]
     },
     "execution_count": 15,
     "metadata": {},
     "output_type": "execute_result"
    }
   ],
   "source": [
    "layers = nn.Sequential(\n",
    "    nn.Linear(10, 5),\n",
    "    nn.ReLU(),\n",
    "    nn.Linear(5, 1),\n",
    "    nn.ReLU(),\n",
    ")\n",
    "x = torch.randn(20, 10)\n",
    "layers(x)"
   ]
  },
  {
   "cell_type": "markdown",
   "metadata": {},
   "source": [
    "This **module composition** is very convinient as it keeps all of our code neat and tidy. Additionally, we have all of our parameters in one place. We can go one step further and create a whole new module to keep all of this."
   ]
  },
  {
   "cell_type": "code",
   "execution_count": 16,
   "metadata": {},
   "outputs": [
    {
     "data": {
      "text/plain": [
       "Dense(\n",
       "  (layers): Sequential(\n",
       "    (0): Linear(in_features=10, out_features=5, bias=True)\n",
       "    (1): ReLU()\n",
       "    (2): Linear(in_features=5, out_features=1, bias=True)\n",
       "    (3): ReLU()\n",
       "  )\n",
       ")"
      ]
     },
     "execution_count": 16,
     "metadata": {},
     "output_type": "execute_result"
    }
   ],
   "source": [
    "class Dense(torch.nn.Module):\n",
    "    \n",
    "    def __init__(self, s1, s2):\n",
    "        super().__init__() # MUST be called to implement torch.nn.Module\n",
    "        self.layers = nn.Sequential(\n",
    "            nn.Linear(s1, s2),\n",
    "            nn.ReLU(),\n",
    "            nn.Linear(s2, 1),\n",
    "            nn.ReLU(),\n",
    "        )\n",
    "        \n",
    "    # the built in method we need to implement\n",
    "    def forward(self, x):\n",
    "        return self.layers(x)\n",
    "    \n",
    "Dense(10, 5)"
   ]
  },
  {
   "cell_type": "code",
   "execution_count": 17,
   "metadata": {},
   "outputs": [
    {
     "data": {
      "text/plain": [
       "tensor([[0.2983],\n",
       "        [0.0263],\n",
       "        [0.2283],\n",
       "        [0.0000],\n",
       "        [0.0000],\n",
       "        [0.3209],\n",
       "        [0.0000],\n",
       "        [0.0000],\n",
       "        [0.2197],\n",
       "        [0.0000],\n",
       "        [0.0000],\n",
       "        [0.2245],\n",
       "        [0.0006],\n",
       "        [0.1633],\n",
       "        [0.0207],\n",
       "        [0.0477],\n",
       "        [0.0945],\n",
       "        [0.3365],\n",
       "        [0.1346],\n",
       "        [0.3091]], grad_fn=<ReluBackward0>)"
      ]
     },
     "execution_count": 17,
     "metadata": {},
     "output_type": "execute_result"
    }
   ],
   "source": [
    "Dense(10, 5)(x)"
   ]
  },
  {
   "cell_type": "markdown",
   "metadata": {},
   "source": [
    "### Flex block and flexible dimensions\n",
    "\n",
    "One of the most fustrating aspects of complex neural networks is getting the **size** correct. This is particularly troublesome with some of the neural networks Caldera creates.\n",
    "\n",
    "To overcome this, Caldera has a small module called a `FlexBlock` that automatically infers dimensions.\n",
    "\n",
    "We can convert almost any pytorch module into a flexible module by calling `Flex(<ModuleType>)`. Lets start by making a flexible Linear module."
   ]
  },
  {
   "cell_type": "code",
   "execution_count": 18,
   "metadata": {},
   "outputs": [
    {
     "data": {
      "text/html": [
       "<pre style=\"white-space:pre;overflow-x:auto;line-height:normal;font-family:Menlo,'DejaVu Sans Mono',consolas,'Courier New',monospace\">╭──────────────────────────────────── standard version ─────────────────────────────────────╮\n",
       "│Linear(in_features=5, out_features=10, bias=True)                                          │\n",
       "╰───────────────────────────────────────────────────────────────────────────────────────────╯\n",
       "</pre>\n"
      ],
      "text/plain": [
       "<rich.jupyter.JupyterRenderable at 0x7fe4511244d0>"
      ]
     },
     "metadata": {},
     "output_type": "display_data"
    },
    {
     "data": {
      "text/html": [
       "<pre style=\"white-space:pre;overflow-x:auto;line-height:normal;font-family:Menlo,'DejaVu Sans Mono',consolas,'Courier New',monospace\"><span style=\"color: #800000\">╭────────────────────────────── flexible version (unresolved) ──────────────────────────────╮</span>\n",
       "<span style=\"color: #800000\">│FlexBlock(                                                                                 │</span>\n",
       "<span style=\"color: #800000\">│        (unresolved_module): Linear(FlexDim(pos=0, dim=1), 10,                             │</span>\n",
       "<span style=\"color: #800000\">│)                                                                                          │</span>\n",
       "<span style=\"color: #800000\">╰───────────────────────────────────────────────────────────────────────────────────────────╯</span>\n",
       "</pre>\n"
      ],
      "text/plain": [
       "<rich.jupyter.JupyterRenderable at 0x7fe45113d8d0>"
      ]
     },
     "metadata": {},
     "output_type": "display_data"
    }
   ],
   "source": [
    "from caldera.blocks import Flex\n",
    "from rich.panel import Panel\n",
    "from rich import print\n",
    "from rich.console import Console\n",
    "FlexLinear = Flex(nn.Linear)\n",
    "flex_lin1 =  FlexLinear(..., 10)\n",
    "lin1 = nn.Linear(5, 10)\n",
    "\n",
    "print(Panel(str(lin1), title='standard version'))\n",
    "\n",
    "print(Panel(str(flex_lin1), title='flexible version (unresolved)', style='red'))"
   ]
  },
  {
   "cell_type": "markdown",
   "metadata": {},
   "source": [
    "Notice the word `unresolved_module` in the FlexBlock. This means we *do not yet know the dimenions* of this module. To *resolve* the module, all we have to do is pass in some data. This will resolve the dimensions at the position indicated by the `...` argument.\n",
    "\n",
    "The `...` is just syntatic sugar to define a `FlexDim` instance. FlexDim will resolve the indicated argument position `pos` using the input data dimension `dim`. By default, when `...` is provided, it will default to its own arg position and dim=1. In most cases, just using `...` at the position you want to be flexible will suffice. Use `FlexDim` if there are multiple flexible dimensions and multiple flexible positions."
   ]
  },
  {
   "cell_type": "code",
   "execution_count": 22,
   "metadata": {},
   "outputs": [
    {
     "data": {
      "text/html": [
       "<pre style=\"white-space:pre;overflow-x:auto;line-height:normal;font-family:Menlo,'DejaVu Sans Mono',consolas,'Courier New',monospace\"><span style=\"color: #008000\">╭─────────────────────────────── flexible version (resolved) ───────────────────────────────╮</span>\n",
       "<span style=\"color: #008000\">│FlexBlock(                                                                                 │</span>\n",
       "<span style=\"color: #008000\">│  (resolved_module): Linear(in_features=5, out_features=10, bias=True)                     │</span>\n",
       "<span style=\"color: #008000\">│)                                                                                          │</span>\n",
       "<span style=\"color: #008000\">╰───────────────────────────────────────────────────────────────────────────────────────────╯</span>\n",
       "</pre>\n"
      ],
      "text/plain": [
       "<rich.jupyter.JupyterRenderable at 0x7fe4504e6290>"
      ]
     },
     "metadata": {},
     "output_type": "display_data"
    }
   ],
   "source": [
    "flex_lin1(torch.randn(10, 5))\n",
    "print(Panel(str(flex_lin1), title='flexible version (resolved)', style='green'))"
   ]
  },
  {
   "cell_type": "markdown",
   "metadata": {},
   "source": [
    "Notice that we now have a Linear layer with expected shape 5. This means the module is resolved and can be used as normal. The flex block if powerful if used in module compositions. For example, in sequential compositions..."
   ]
  },
  {
   "cell_type": "code",
   "execution_count": 23,
   "metadata": {},
   "outputs": [
    {
     "data": {
      "text/plain": [
       "ellipsis"
      ]
     },
     "execution_count": 23,
     "metadata": {},
     "output_type": "execute_result"
    }
   ],
   "source": [
    "type(...)"
   ]
  },
  {
   "cell_type": "code",
   "execution_count": 24,
   "metadata": {},
   "outputs": [],
   "source": [
    "layer = nn.Sequential(\n",
    "    Flex(nn.Linear)(..., 10),\n",
    "    nn.ReLU(),\n",
    "    Flex(nn.Linear)(..., 4),\n",
    "    nn.Sigmoid()\n",
    ")"
   ]
  },
  {
   "cell_type": "markdown",
   "metadata": {},
   "source": [
    "## Message passing (how we pass information throughout a graph neural network)"
   ]
  },
  {
   "cell_type": "markdown",
   "metadata": {},
   "source": [
    "How to we pass data in the graph? We will use graph neighbors to pass information to the current node."
   ]
  },
  {
   "cell_type": "markdown",
   "metadata": {},
   "source": [
    "### Message passing and representation learning"
   ]
  },
  {
   "cell_type": "code",
   "execution_count": 24,
   "metadata": {},
   "outputs": [
    {
     "ename": "NameError",
     "evalue": "name 'nn' is not defined",
     "output_type": "error",
     "traceback": [
      "\u001B[0;31m---------------------------------------------------------------------------\u001B[0m",
      "\u001B[0;31mNameError\u001B[0m                                 Traceback (most recent call last)",
      "\u001B[0;32m<ipython-input-24-38a06e69d475>\u001B[0m in \u001B[0;36m<module>\u001B[0;34m\u001B[0m\n\u001B[0;32m----> 1\u001B[0;31m \u001B[0mnn\u001B[0m\u001B[0;34m.\u001B[0m\u001B[0mReLU\u001B[0m\u001B[0;34m(\u001B[0m\u001B[0;34m)\u001B[0m\u001B[0;34m\u001B[0m\u001B[0;34m\u001B[0m\u001B[0m\n\u001B[0m",
      "\u001B[0;31mNameError\u001B[0m: name 'nn' is not defined"
     ]
    }
   ],
   "source": [
    "nn.ReLU()"
   ]
  },
  {
   "cell_type": "code",
   "execution_count": null,
   "metadata": {},
   "outputs": [],
   "source": []
  }
 ],
 "metadata": {
  "kernelspec": {
   "display_name": "Python 3",
   "language": "python",
   "name": "python3"
  },
  "language_info": {
   "codemirror_mode": {
    "name": "ipython",
    "version": 3
   },
   "file_extension": ".py",
   "mimetype": "text/x-python",
   "name": "python",
   "nbconvert_exporter": "python",
   "pygments_lexer": "ipython3",
   "version": "3.7.7"
  }
 },
 "nbformat": 4,
 "nbformat_minor": 4
}