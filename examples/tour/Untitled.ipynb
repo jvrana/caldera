{
 "cells": [
  {
   "cell_type": "code",
   "execution_count": 6,
   "metadata": {},
   "outputs": [],
   "source": [
    "##########################################################\n",
    "# Relative Imports\n",
    "##########################################################\n",
    "import sys\n",
    "from os.path import isfile\n",
    "from os.path import join\n",
    "\n",
    "\n",
    "def find_pkg(name: str, depth: int):\n",
    "    if depth <= 0:\n",
    "        ret = None\n",
    "    else:\n",
    "        d = [\"..\"] * depth\n",
    "        path_parts = d + [name, \"__init__.py\"]\n",
    "\n",
    "        if isfile(join(*path_parts)):\n",
    "            ret = d\n",
    "        else:\n",
    "            ret = find_pkg(name, depth - 1)\n",
    "    return ret\n",
    "\n",
    "\n",
    "def find_and_ins_syspath(name: str, depth: int):\n",
    "    path_parts = find_pkg(name, depth)\n",
    "    if path_parts is None:\n",
    "        raise RuntimeError(\"Could not find {}. Try increasing depth.\".format(name))\n",
    "    path = join(*path_parts)\n",
    "    if path not in sys.path:\n",
    "        sys.path.insert(0, path)\n",
    "\n",
    "\n",
    "try:\n",
    "    import caldera\n",
    "except ImportError:\n",
    "    find_and_ins_syspath(\"caldera\", 3)"
   ]
  },
  {
   "cell_type": "markdown",
   "metadata": {},
   "source": [
    "# Caldera"
   ]
  },
  {
   "cell_type": "code",
   "execution_count": 7,
   "metadata": {},
   "outputs": [],
   "source": [
    "import caldera"
   ]
  },
  {
   "cell_type": "markdown",
   "metadata": {},
   "source": [
    "## Data tour"
   ]
  },
  {
   "cell_type": "markdown",
   "metadata": {},
   "source": [
    "### GraphData\n",
    "\n",
    "The primary data object used by caldera. We can generate random objects by using `GraphData.random` for testing and demo purposes..."
   ]
  },
  {
   "cell_type": "code",
   "execution_count": 25,
   "metadata": {},
   "outputs": [
    {
     "data": {
      "text/plain": [
       "<GraphData size(n,e,g)=torch.Size([15, 1, 1]) features(n,e,g)=torch.Size([5, 4, 3])>"
      ]
     },
     "execution_count": 25,
     "metadata": {},
     "output_type": "execute_result"
    }
   ],
   "source": [
    "from caldera.data import GraphData\n",
    "\n",
    "data = GraphData.random(n_feat=5, e_feat=4, g_feat=3)\n",
    "data"
   ]
  },
  {
   "cell_type": "markdown",
   "metadata": {},
   "source": [
    "`GraphData` instances contain node tensor (`data.x`), edge tensor (`data.e`) and global tensor (`data.g`). They also keep graph topology\n",
    "via and edge list, `data.edges`, which indicates edges by node indices. Note that this mean graphs are MultiGraphs (multiple edges between same nodes allowed)"
   ]
  },
  {
   "cell_type": "markdown",
   "metadata": {},
   "source": [
    "#### node features\n",
    "\n",
    "Each node gets a tensor. These tensors are stack into `data.x`"
   ]
  },
  {
   "cell_type": "code",
   "execution_count": 29,
   "metadata": {},
   "outputs": [
    {
     "name": "stdout",
     "output_type": "stream",
     "text": [
      "We have 15 nodes\n",
      "Each node has a tensor of shape 5\n",
      "Overall shape: torch.Size([15, 5])\n"
     ]
    },
    {
     "data": {
      "text/plain": [
       "tensor([[-0.2561,  0.4482,  0.7056,  0.9847,  0.9111],\n",
       "        [-0.2304, -0.4359, -0.9248,  1.4216,  1.1642],\n",
       "        [-0.8886, -0.4438,  0.7387,  1.5487,  0.4253],\n",
       "        [ 0.1481, -1.0606, -0.1148,  0.8447, -0.9782],\n",
       "        [ 1.0306, -0.0861,  0.8580,  0.1885,  1.0642],\n",
       "        [-0.4962,  1.7422,  1.1774,  0.3492,  1.5053],\n",
       "        [ 1.7783, -0.9488,  1.7510,  1.5110, -0.6304],\n",
       "        [ 0.0149, -2.4232, -0.6660,  0.6719,  0.2648],\n",
       "        [ 1.8272, -0.3493, -0.5736,  0.5759,  2.4898],\n",
       "        [-0.8786,  0.6716,  1.0330, -0.0818, -1.4703],\n",
       "        [ 0.7344, -1.5721,  2.1205, -0.2214, -1.5946],\n",
       "        [-2.1527,  0.4033,  0.8337, -0.4313,  0.6429],\n",
       "        [ 0.3153,  0.1496,  1.0945,  0.2415,  0.7226],\n",
       "        [ 0.5320,  0.0163,  0.2457, -0.6638, -1.1801],\n",
       "        [-1.7819,  0.3855, -0.3971, -0.2051, -0.6224]])"
      ]
     },
     "execution_count": 29,
     "metadata": {},
     "output_type": "execute_result"
    }
   ],
   "source": [
    "print('We have {} nodes'.format(data.x.shape[0]))\n",
    "print('Each node has a feature tensor of shape {}'.format(data.x.shape[1]))\n",
    "print(\"Overall shape: {}\".format(data.x.shape))\n",
    "data.x"
   ]
  },
  {
   "cell_type": "markdown",
   "metadata": {},
   "source": [
    "#### edge features\n",
    "\n",
    "Each edge gets a tensor. These tensors are stack into `data.e`"
   ]
  },
  {
   "cell_type": "code",
   "execution_count": 37,
   "metadata": {},
   "outputs": [
    {
     "name": "stdout",
     "output_type": "stream",
     "text": [
      "We have 1 edge(s)\n",
      "Each edge has a feature tensor of shape 4\n",
      "Overall shape: torch.Size([1, 4])\n"
     ]
    },
    {
     "data": {
      "text/plain": [
       "tensor([[-0.2561,  0.4482,  0.7056,  0.9847,  0.9111],\n",
       "        [-0.2304, -0.4359, -0.9248,  1.4216,  1.1642],\n",
       "        [-0.8886, -0.4438,  0.7387,  1.5487,  0.4253],\n",
       "        [ 0.1481, -1.0606, -0.1148,  0.8447, -0.9782],\n",
       "        [ 1.0306, -0.0861,  0.8580,  0.1885,  1.0642],\n",
       "        [-0.4962,  1.7422,  1.1774,  0.3492,  1.5053],\n",
       "        [ 1.7783, -0.9488,  1.7510,  1.5110, -0.6304],\n",
       "        [ 0.0149, -2.4232, -0.6660,  0.6719,  0.2648],\n",
       "        [ 1.8272, -0.3493, -0.5736,  0.5759,  2.4898],\n",
       "        [-0.8786,  0.6716,  1.0330, -0.0818, -1.4703],\n",
       "        [ 0.7344, -1.5721,  2.1205, -0.2214, -1.5946],\n",
       "        [-2.1527,  0.4033,  0.8337, -0.4313,  0.6429],\n",
       "        [ 0.3153,  0.1496,  1.0945,  0.2415,  0.7226],\n",
       "        [ 0.5320,  0.0163,  0.2457, -0.6638, -1.1801],\n",
       "        [-1.7819,  0.3855, -0.3971, -0.2051, -0.6224]])"
      ]
     },
     "execution_count": 37,
     "metadata": {},
     "output_type": "execute_result"
    }
   ],
   "source": [
    "print('We have {} edge(s)'.format(data.e.shape[0]))\n",
    "print('Each edge has a feature tensor of shape {}'.format(data.e.shape[1]))\n",
    "print(\"Overall shape: {}\".format(data.e.shape))\n",
    "data.x"
   ]
  },
  {
   "cell_type": "markdown",
   "metadata": {},
   "source": [
    "#### global features\n",
    "\n",
    "Each graph gets a single global tensor. These tensors are stack into `data.g`. \n",
    "\n",
    "We may use this, for example, to label each graph with a category."
   ]
  },
  {
   "cell_type": "code",
   "execution_count": 42,
   "metadata": {},
   "outputs": [
    {
     "name": "stdout",
     "output_type": "stream",
     "text": [
      "We have a single global tensor of shape torch.Size([1, 3])\n"
     ]
    },
    {
     "data": {
      "text/plain": [
       "tensor([[ 0.5395, -0.5470, -0.3705]])"
      ]
     },
     "execution_count": 42,
     "metadata": {},
     "output_type": "execute_result"
    }
   ],
   "source": [
    "print('We have a single global tensor of shape {}'.format(data.g.shape))\n",
    "data.g"
   ]
  },
  {
   "cell_type": "markdown",
   "metadata": {},
   "source": [
    "#### edges\n",
    "\n",
    "Graph topology is store in the `data.edges` attribute. This indicates which nodes (by index) are connected."
   ]
  },
  {
   "cell_type": "code",
   "execution_count": 50,
   "metadata": {},
   "outputs": [
    {
     "data": {
      "text/plain": [
       "tensor([[ 1,  0, 11, 11, 14,  4, 12],\n",
       "        [ 0,  5,  1,  4,  3, 13,  2]])"
      ]
     },
     "execution_count": 50,
     "metadata": {},
     "output_type": "execute_result"
    }
   ],
   "source": [
    "data.edges"
   ]
  },
  {
   "cell_type": "markdown",
   "metadata": {},
   "source": [
    "### Conversion\n",
    "\n",
    "We can convert `GraphData` instances to and from networkx instances (graphs)."
   ]
  },
  {
   "cell_type": "code",
   "execution_count": 48,
   "metadata": {},
   "outputs": [
    {
     "name": "stdout",
     "output_type": "stream",
     "text": [
      "<GraphData size(n,e,g)=torch.Size([15, 7, 1]) features(n,e,g)=torch.Size([5, 4, 3])>\n"
     ]
    },
    {
     "data": {
      "image/png": "[encoded data removed]",
      "text/plain": [
       "<Figure size 432x288 with 1 Axes>"
      ]
     },
     "metadata": {},
     "output_type": "display_data"
    }
   ],
   "source": [
    "import networkx as nx\n",
    "%matplotlib inline\n",
    "\n",
    "data = GraphData.random(5, 4, 3)\n",
    "\n",
    "# convert to a networkx object\n",
    "graph = data.to_networkx()\n",
    "\n",
    "# draw\n",
    "nx.draw(graph)\n",
    "\n",
    "# convert back to GraphData object\n",
    "from_nx = GraphData.from_networkx(graph)\n",
    "print(from_nx)"
   ]
  },
  {
   "cell_type": "markdown",
   "metadata": {},
   "source": [
    "From networkx..."
   ]
  },
  {
   "cell_type": "markdown",
   "metadata": {},
   "source": [
    "# convert back to GraphData object\n",
    "GraphData.from_networkx(graph)"
   ]
  },
  {
   "cell_type": "code",
   "execution_count": null,
   "metadata": {},
   "outputs": [],
   "source": []
  }
 ],
 "metadata": {
  "kernelspec": {
   "display_name": "Python 3",
   "language": "python",
   "name": "python3"
  },
  "language_info": {
   "codemirror_mode": {
    "name": "ipython",
    "version": 3
   },
   "file_extension": ".py",
   "mimetype": "text/x-python",
   "name": "python",
   "nbconvert_exporter": "python",
   "pygments_lexer": "ipython3",
   "version": "3.7.7"
  }
 },
 "nbformat": 4,
 "nbformat_minor": 4
}
