{
 "cells": [
  {
   "cell_type": "code",
   "execution_count": 1,
   "metadata": {},
   "outputs": [],
   "source": [
    "# flake8: noqa\n",
    "##########################################################\n",
    "# Relative Imports\n",
    "##########################################################\n",
    "import sys\n",
    "from os.path import isfile\n",
    "from os.path import join\n",
    "\n",
    "\n",
    "def find_pkg(name: str, depth: int):\n",
    "    if depth <= 0:\n",
    "        ret = None\n",
    "    else:\n",
    "        d = [\"..\"] * depth\n",
    "        path_parts = d + [name, \"__init__.py\"]\n",
    "\n",
    "        if isfile(join(*path_parts)):\n",
    "            ret = d\n",
    "        else:\n",
    "            ret = find_pkg(name, depth - 1)\n",
    "    return ret\n",
    "\n",
    "\n",
    "def find_and_ins_syspath(name: str, depth: int):\n",
    "    path_parts = find_pkg(name, depth)\n",
    "    if path_parts is None:\n",
    "        raise RuntimeError(\"Could not find {}. Try increasing depth.\".format(name))\n",
    "    path = join(*path_parts)\n",
    "    if path not in sys.path:\n",
    "        sys.path.insert(0, path)\n",
    "\n",
    "\n",
    "try:\n",
    "    import caldera\n",
    "except ImportError:\n",
    "    find_and_ins_syspath(\"caldera\", 3)\n",
    "\n",
    "##########################################################\n",
    "# Main\n",
    "##########################################################\n",
    "\n",
    "import copy\n",
    "import hydra\n",
    "from examples.traversals.training import TrainingModule\n",
    "from examples.traversals.data import DataGenerator, DataConfig\n",
    "from examples.traversals.configuration import Config\n",
    "from examples.traversals.configuration.data import Uniform, DiscreteUniform\n",
    "from typing import TypeVar\n",
    "from pytorch_lightning import Trainer\n",
    "from examples.traversals.loggers import logger\n",
    "from omegaconf import DictConfig, OmegaConf\n",
    "from rich.panel import Panel\n",
    "from rich import print\n",
    "from rich.syntax import Syntax\n",
    "\n",
    "\n",
    "C = TypeVar(\"C\")\n",
    "\n",
    "\n",
    "def prime_the_model(model: TrainingModule, config: Config):\n",
    "    logger.info(\"Priming the model with data\")\n",
    "    config_copy: DataConfig = copy.deepcopy(config.data)\n",
    "    config_copy.train.num_graphs = 10\n",
    "    config_copy.eval.num_graphs = 0\n",
    "    data_copy = DataGenerator(config_copy, progress_bar=False)\n",
    "    for a, b in data_copy.train_loader():\n",
    "        model.model.forward(a, 10)\n",
    "        break\n",
    "\n",
    "\n",
    "def print_title():\n",
    "    print(Panel(\"Training Example: [red]Traversal\", title=\"[red]caldera\"))\n",
    "\n",
    "\n",
    "def print_model(model: TrainingModule):\n",
    "    print(Panel(\"Network\", expand=False))\n",
    "    print(model)\n",
    "\n",
    "\n",
    "def print_yaml(cfg: Config):\n",
    "    print(Panel(\"Configuration\", expand=False))\n",
    "    print(Syntax(OmegaConf.to_yaml(cfg), \"yaml\"))\n",
    "\n",
    "# def config_override(cfg: DictConfig):\n",
    "#     # defaults\n",
    "#     cfg.hyperparameters.lr = 1e-3\n",
    "#     cfg.hyperparameters.train_core_processing_steps = 10\n",
    "#     cfg.hyperparameters.eval_core_processing_steps = 10\n",
    "#\n",
    "#     cfg.data.train.num_graphs = 5000\n",
    "#     cfg.data.train.num_nodes = DiscreteUniform(10, 100)\n",
    "#     cfg.data.train.density = Uniform(0.01, 0.03)\n",
    "#     cfg.data.train.path_length = DiscreteUniform(5, 10)\n",
    "#     cfg.data.train.composition_density = Uniform(0.01, 0.02)\n",
    "#     cfg.data.train.batch_size = 512\n",
    "#     cfg.data.train.shuffle = False\n",
    "#\n",
    "#     cfg.data.eval.num_graphs = 500\n",
    "#     cfg.data.eval.num_nodes = DiscreteUniform(10, 100)\n",
    "#     cfg.data.eval.density = Uniform(0.01, 0.03)\n",
    "#     cfg.data.eval.path_length = DiscreteUniform(5, 10)\n",
    "#     cfg.data.eval.composition_density = Uniform(0.01, 0.02)\n",
    "#     cfg.data.eval.batch_size = \"${data.eval.num_graphs}\"\n",
    "#     cfg.data.eval.shuffle = False\n",
    "\n",
    "# @hydra.main(config_path=\"conf\", config_name=\"config\")\n",
    "# def main(hydra_cfg: DictConfig):\n",
    "\n",
    "#     print_title()\n",
    "\n",
    "\n",
    "#     logger.setLevel(hydra_cfg.log_level)\n",
    "#     if hydra_cfg.log_level.upper() == 'DEBUG':\n",
    "#         verbose = True\n",
    "#     else:\n",
    "#         verbose = False\n",
    "#     # really unclear why hydra has so many unclear validation issues with structure configs using ConfigStore\n",
    "#     # this correctly assigns the correct structured config\n",
    "#     # and updates from the passed hydra config\n",
    "#     # annoying... but this resolves all these issues\n",
    "#     cfg = OmegaConf.structured(Config())\n",
    "#     cfg.update(hydra_cfg)\n",
    "\n",
    "#     # debug\n",
    "#     if verbose:\n",
    "#         print_yaml(cfg)\n",
    "\n",
    "#     from pytorch_lightning.loggers import WandbLogger\n",
    "#     wandb_logger = WandbLogger(project='pytorchlightning')\n",
    "\n",
    "#     # explicitly convert the DictConfig back to Config object\n",
    "#     # has the added benefit of performing validation upfront\n",
    "#     # before any expensive training or logging initiates\n",
    "#     config = Config.from_dict_config(cfg)\n",
    "\n",
    "#     # initialize the training module\n",
    "#     training_module = TrainingModule(config)\n",
    "\n",
    "#     logger.info(\"Priming the model with data\")\n",
    "#     prime_the_model(training_module, config)\n",
    "#     logger.debug(Panel(\"Model\", expand=False))\n",
    "\n",
    "#     if verbose:\n",
    "#         print_model(training_module)\n",
    "\n",
    "#     logger.info(\"Generating data...\")\n",
    "#     data = DataGenerator(config.data)\n",
    "#     data.init()\n",
    "\n",
    "#     logger.info(\"Beginning training...\")\n",
    "#     trainer = Trainer(gpus=config.gpus, logger=wandb_logger)\n",
    "\n",
    "#     trainer.fit(\n",
    "#         training_module,\n",
    "#         train_dataloader=data.train_loader(),\n",
    "#         val_dataloaders=data.eval_loader(),\n",
    "#     )\n",
    "\n",
    "\n",
    "# if __name__ == \"__main__\":\n",
    "#     main()\n"
   ]
  },
  {
   "cell_type": "code",
   "execution_count": 2,
   "metadata": {},
   "outputs": [
    {
     "name": "stderr",
     "output_type": "stream",
     "text": [
      "/home/justin/anaconda3/envs/caldera/lib/python3.7/site-packages/omegaconf/omegaconf.py:579: UserWarning: update() merge flag is is not specified, defaulting to False.\n",
      "For more details, see https://github.com/omry/omegaconf/issues/367\n",
      "  stacklevel=1,\n"
     ]
    },
    {
     "data": {
      "application/vnd.jupyter.widget-view+json": {
       "model_id": "a0d886dd7470426085efa7ee7302f9b0",
       "version_major": 2,
       "version_minor": 0
      },
      "text/plain": [
       "Output()"
      ]
     },
     "metadata": {},
     "output_type": "display_data"
    },
    {
     "data": {
      "application/vnd.jupyter.widget-view+json": {
       "model_id": "f2d02dace4ad457d9f75458eac5f7bd8",
       "version_major": 2,
       "version_minor": 0
      },
      "text/plain": [
       "Output()"
      ]
     },
     "metadata": {},
     "output_type": "display_data"
    },
    {
     "data": {
      "application/vnd.jupyter.widget-view+json": {
       "model_id": "c96e69c030c7489daae14bc61f973573",
       "version_major": 2,
       "version_minor": 0
      },
      "text/plain": [
       "Output()"
      ]
     },
     "metadata": {},
     "output_type": "display_data"
    }
   ],
   "source": [
    "from examples.traversals.configuration import get_config\n",
    "\n",
    "config = get_config( as_config_class=True)\n",
    "\n",
    "data = DataGenerator(config.data)\n",
    "data.init()\n",
    "\n",
    "training_module = TrainingModule(config)\n",
    "\n",
    "logger.info(\"Priming the model with data\")\n",
    "prime_the_model(training_module, config)"
   ]
  },
  {
   "cell_type": "code",
   "execution_count": 3,
   "metadata": {},
   "outputs": [
    {
     "name": "stderr",
     "output_type": "stream",
     "text": [
      "GPU available: True, used: True\n",
      "TPU available: False, using: 0 TPU cores\n",
      "CUDA_VISIBLE_DEVICES: [0]\n",
      "/home/justin/anaconda3/envs/caldera/lib/python3.7/site-packages/pytorch_lightning/utilities/distributed.py:37: UserWarning: Could not log computational graph since the `model.example_input_array` attribute is not set or `input_array` was not given\n",
      "  warnings.warn(*args, **kwargs)\n",
      "\n",
      "  | Name  | Type    | Params\n",
      "----------------------------------\n",
      "0 | model | Network | 35 K  \n",
      "/home/justin/anaconda3/envs/caldera/lib/python3.7/site-packages/pytorch_lightning/utilities/distributed.py:37: UserWarning: The dataloader, val dataloader 0, does not have many workers which may be a bottleneck. Consider increasing the value of the `num_workers` argument` (try 12 which is the number of cpus on this machine) in the `DataLoader` init to improve performance.\n",
      "  warnings.warn(*args, **kwargs)\n"
     ]
    },
    {
     "data": {
      "application/vnd.jupyter.widget-view+json": {
       "model_id": "",
       "version_major": 2,
       "version_minor": 0
      },
      "text/plain": [
       "HBox(children=(FloatProgress(value=1.0, bar_style='info', description='Validation sanity check', layout=Layout…"
      ]
     },
     "metadata": {},
     "output_type": "display_data"
    },
    {
     "name": "stderr",
     "output_type": "stream",
     "text": [
      "/home/justin/anaconda3/envs/caldera/lib/python3.7/site-packages/pytorch_lightning/utilities/distributed.py:37: UserWarning: The dataloader, train dataloader, does not have many workers which may be a bottleneck. Consider increasing the value of the `num_workers` argument` (try 12 which is the number of cpus on this machine) in the `DataLoader` init to improve performance.\n",
      "  warnings.warn(*args, **kwargs)\n"
     ]
    },
    {
     "data": {
      "application/vnd.jupyter.widget-view+json": {
       "model_id": "78c28bb236c4499ca2b63edb12bc181f",
       "version_major": 2,
       "version_minor": 0
      },
      "text/plain": [
       "HBox(children=(FloatProgress(value=1.0, bar_style='info', description='Training', layout=Layout(flex='2'), max…"
      ]
     },
     "metadata": {},
     "output_type": "display_data"
    },
    {
     "data": {
      "application/vnd.jupyter.widget-view+json": {
       "model_id": "",
       "version_major": 2,
       "version_minor": 0
      },
      "text/plain": [
       "HBox(children=(FloatProgress(value=1.0, bar_style='info', description='Validating', layout=Layout(flex='2'), m…"
      ]
     },
     "metadata": {},
     "output_type": "display_data"
    },
    {
     "data": {
      "application/vnd.jupyter.widget-view+json": {
       "model_id": "",
       "version_major": 2,
       "version_minor": 0
      },
      "text/plain": [
       "HBox(children=(FloatProgress(value=1.0, bar_style='info', description='Validating', layout=Layout(flex='2'), m…"
      ]
     },
     "metadata": {},
     "output_type": "display_data"
    },
    {
     "data": {
      "application/vnd.jupyter.widget-view+json": {
       "model_id": "",
       "version_major": 2,
       "version_minor": 0
      },
      "text/plain": [
       "HBox(children=(FloatProgress(value=1.0, bar_style='info', description='Validating', layout=Layout(flex='2'), m…"
      ]
     },
     "metadata": {},
     "output_type": "display_data"
    },
    {
     "name": "stderr",
     "output_type": "stream",
     "text": [
      "/home/justin/anaconda3/envs/caldera/lib/python3.7/site-packages/pytorch_lightning/utilities/distributed.py:37: UserWarning: Detected KeyboardInterrupt, attempting graceful shutdown...\n",
      "  warnings.warn(*args, **kwargs)\n",
      "Saving latest checkpoint..\n"
     ]
    },
    {
     "name": "stdout",
     "output_type": "stream",
     "text": [
      "\n"
     ]
    },
    {
     "data": {
      "text/plain": [
       "1"
      ]
     },
     "execution_count": 3,
     "metadata": {},
     "output_type": "execute_result"
    }
   ],
   "source": [
    "trainer = Trainer(gpus=config.gpus)\n",
    "\n",
    "trainer.fit(\n",
    "    training_module,\n",
    "    train_dataloader=data.train_loader(),\n",
    "    val_dataloaders=data.eval_loader(),\n",
    ")"
   ]
  },
  {
   "cell_type": "code",
   "execution_count": 5,
   "metadata": {},
   "outputs": [],
   "source": [
    "inp, targ = data.eval_loader().first()"
   ]
  },
  {
   "cell_type": "code",
   "execution_count": 14,
   "metadata": {},
   "outputs": [
    {
     "data": {
      "text/plain": [
       "NodeDataView({0: {'features': tensor([1.]), 'x': array([1])}, 1: {'features': tensor([0.]), 'x': array([0])}, 2: {'features': tensor([0.]), 'x': array([0])}, 3: {'features': tensor([0.]), 'x': array([0])}, 4: {'features': tensor([0.]), 'x': array([0])}, 5: {'features': tensor([0.]), 'x': array([0])}, 6: {'features': tensor([0.]), 'x': array([0])}, 7: {'features': tensor([0.]), 'x': array([0])}, 8: {'features': tensor([0.]), 'x': array([0])}, 9: {'features': tensor([0.]), 'x': array([0])}, 10: {'features': tensor([0.]), 'x': array([0])}, 11: {'features': tensor([0.]), 'x': array([0])}, 12: {'features': tensor([0.]), 'x': array([0])}, 13: {'features': tensor([0.]), 'x': array([0])}, 14: {'features': tensor([0.]), 'x': array([0])}, 15: {'features': tensor([0.]), 'x': array([0])}, 16: {'features': tensor([0.]), 'x': array([0])}, 17: {'features': tensor([0.]), 'x': array([0])}, 18: {'features': tensor([0.]), 'x': array([0])}, 19: {'features': tensor([0.]), 'x': array([0])}, 20: {'features': tensor([0.]), 'x': array([0])}, 21: {'features': tensor([0.]), 'x': array([0])}, 22: {'features': tensor([0.]), 'x': array([0])}, 23: {'features': tensor([1.]), 'x': array([1])}, 24: {'features': tensor([0.]), 'x': array([0])}, 25: {'features': tensor([0.]), 'x': array([0])}, 26: {'features': tensor([0.]), 'x': array([0])}, 27: {'features': tensor([0.]), 'x': array([0])}, 28: {'features': tensor([1.]), 'x': array([1])}, 29: {'features': tensor([0.]), 'x': array([0])}, 30: {'features': tensor([1.]), 'x': array([1])}, 31: {'features': tensor([1.]), 'x': array([1])}, 32: {'features': tensor([0.]), 'x': array([0])}, 33: {'features': tensor([1.]), 'x': array([1])}, 34: {'features': tensor([0.]), 'x': array([0])}, 35: {'features': tensor([1.]), 'x': array([1])}, 36: {'features': tensor([0.]), 'x': array([0])}, 37: {'features': tensor([0.]), 'x': array([0])}, 38: {'features': tensor([0.]), 'x': array([0])}, 39: {'features': tensor([1.]), 'x': array([1])}, 40: {'features': tensor([0.]), 'x': array([0])}, 41: {'features': tensor([1.]), 'x': array([1])}})"
      ]
     },
     "execution_count": 14,
     "metadata": {},
     "output_type": "execute_result"
    }
   ],
   "source": [
    "from caldera.transforms.networkx import NetworkxAttachNumpyBool\n",
    "\n",
    "g = targ.to_networkx_list()[0]\n",
    "\n",
    "to_bool = NetworkxAttachNumpyBool('node', 'features', 'x')\n",
    "graphs = to_bool(targ.to_networkx_list())\n",
    "graphs[0].nodes(data=True)"
   ]
  },
  {
   "cell_type": "code",
   "execution_count": 17,
   "metadata": {},
   "outputs": [],
   "source": [
    "from matplotlib import cm\n",
    "import matplotlib.pyplot as plt\n",
    "import numpy as np\n",
    "import networkx as nx\n",
    "%matplotlib inline\n"
   ]
  },
  {
   "cell_type": "code",
   "execution_count": 25,
   "metadata": {},
   "outputs": [
    {
     "data": {
      "image/png": "[encoded data removed]",
      "text/plain": [
       "<Figure size 360x180 with 2 Axes>"
      ]
     },
     "metadata": {},
     "output_type": "display_data"
    }
   ],
   "source": [
    "def edge_colors(g, key, cmap):\n",
    "    edgecolors = list()\n",
    "    edgelist = list(g.edges)\n",
    "    edgefeat = list()\n",
    "    for e in edgelist:\n",
    "        edata = g.edges[e]\n",
    "        edgefeat.append(edata[key][0].item())\n",
    "    edgefeat = np.array(edgefeat)\n",
    "    edgecolors = cmap(edgefeat)\n",
    "    return edgecolors\n",
    "    nx.draw_networkx_edges(g, pos=pos, edge_color=edgecolors, arrows=False)\n",
    "\n",
    "def node_colors(g, key, cmap):\n",
    "    nodecolors = list()\n",
    "    nodelist = list(g.nodes)\n",
    "    nodefeat = list()\n",
    "    for n in nodelist:\n",
    "        ndata = g.nodes[n]\n",
    "        nodefeat.append(ndata[key][0].item())\n",
    "    nodefeat = np.array(nodefeat)\n",
    "    nodecolors = cmap(nodefeat)\n",
    "    return nodecolors\n",
    "    nx.draw_networkx_nodes(g, pos=pos, node_size=10, node_color=nodecolors)\n",
    "\n",
    "def plot_graph(g, ax, cmap, key='features', seed=1):\n",
    "    pos = nx.layout.spring_layout(g, seed=seed)\n",
    "    nx.draw_networkx_edges(g, ax=ax, pos=pos, edge_color=edge_colors(g, key, cmap), arrows=False);\n",
    "    nx.draw_networkx_nodes(g, ax=ax, pos=pos, node_size=10, node_color=node_colors(g, key, cmap))\n",
    "    \n",
    "    \n",
    "def comparison_plot(out_g, expected_g):\n",
    "    fig, axes = plt.subplots(1, 2, figsize=(5, 2.5))\n",
    "    axes[0].axis('off')\n",
    "    axes[1].axis('off')\n",
    "    \n",
    "    axes[0].set_title(\"out\")\n",
    "    plot_graph(out_g, axes[0], cm.plasma)\n",
    "    \n",
    "    axes[1].set_title(\"expected\")\n",
    "    plot_graph(expected_g, axes[1], cm.plasma)\n",
    "    return fig, axes\n",
    "\n",
    "def validate_compare_plot(trainer, plmodel):\n",
    "    eval_loader = trainer.val_dataloaders[0]\n",
    "    for x, y in eval_loader:\n",
    "        break\n",
    "    plmodel.eval()\n",
    "    y_hat = plmodel.model.forward(x, 10)[-1]\n",
    "    y_graphs = y.to_networkx_list()\n",
    "    y_hat_graphs = y_hat.to_networkx_list()\n",
    "\n",
    "    idx = 0\n",
    "    yg = y_graphs[idx]\n",
    "    yhg = y_hat_graphs[idx]\n",
    "    return comparison_plot(yhg, yg)\n",
    "\n",
    "fig, axes = validate_compare_plot(trainer, training_module)"
   ]
  },
  {
   "cell_type": "code",
   "execution_count": 26,
   "metadata": {},
   "outputs": [],
   "source": [
    "from pytorch_lightning.loggers import WandbLogger\n",
    "wandb_logger = WandbLogger(project='pytorchlightning')"
   ]
  },
  {
   "cell_type": "code",
   "execution_count": 29,
   "metadata": {},
   "outputs": [
    {
     "data": {
      "text/html": [
       "\n",
       "                Logging results to <a href=\"https://wandb.com\" target=\"_blank\">Weights & Biases</a> <a href=\"https://docs.wandb.com/integrations/jupyter.html\" target=\"_blank\">(Documentation)</a>.<br/>\n",
       "                Project page: <a href=\"https://app.wandb.ai/jvrana/pytorchlightning\" target=\"_blank\">https://app.wandb.ai/jvrana/pytorchlightning</a><br/>\n",
       "                Run page: <a href=\"https://app.wandb.ai/jvrana/pytorchlightning/runs/1s98jp1k\" target=\"_blank\">https://app.wandb.ai/jvrana/pytorchlightning/runs/1s98jp1k</a><br/>\n",
       "            "
      ],
      "text/plain": [
       "<IPython.core.display.HTML object>"
      ]
     },
     "metadata": {},
     "output_type": "display_data"
    },
    {
     "name": "stderr",
     "output_type": "stream",
     "text": [
      "Failed to query for notebook name, you can set it manually with the WANDB_NOTEBOOK_NAME environment variable\n",
      "\u001b[34m\u001b[1mwandb\u001b[0m: Wandb version 0.10.4 is available!  To upgrade, please run:\n",
      "\u001b[34m\u001b[1mwandb\u001b[0m:  $ pip install wandb --upgrade\n"
     ]
    },
    {
     "data": {
      "text/plain": [
       "W&B Run: https://app.wandb.ai/jvrana/pytorchlightning/runs/1s98jp1k"
      ]
     },
     "execution_count": 29,
     "metadata": {},
     "output_type": "execute_result"
    }
   ],
   "source": [
    "wandb_logger.experiment"
   ]
  },
  {
   "cell_type": "code",
   "execution_count": 39,
   "metadata": {},
   "outputs": [
    {
     "data": {
      "text/plain": [
       "\u001b[0;31mInit signature:\u001b[0m\n",
       "\u001b[0mwandb\u001b[0m\u001b[0;34m.\u001b[0m\u001b[0mImage\u001b[0m\u001b[0;34m(\u001b[0m\u001b[0;34m\u001b[0m\n",
       "\u001b[0;34m\u001b[0m    \u001b[0mdata_or_path\u001b[0m\u001b[0;34m,\u001b[0m\u001b[0;34m\u001b[0m\n",
       "\u001b[0;34m\u001b[0m    \u001b[0mmode\u001b[0m\u001b[0;34m=\u001b[0m\u001b[0;32mNone\u001b[0m\u001b[0;34m,\u001b[0m\u001b[0;34m\u001b[0m\n",
       "\u001b[0;34m\u001b[0m    \u001b[0mcaption\u001b[0m\u001b[0;34m=\u001b[0m\u001b[0;32mNone\u001b[0m\u001b[0;34m,\u001b[0m\u001b[0;34m\u001b[0m\n",
       "\u001b[0;34m\u001b[0m    \u001b[0mgrouping\u001b[0m\u001b[0;34m=\u001b[0m\u001b[0;32mNone\u001b[0m\u001b[0;34m,\u001b[0m\u001b[0;34m\u001b[0m\n",
       "\u001b[0;34m\u001b[0m    \u001b[0mboxes\u001b[0m\u001b[0;34m=\u001b[0m\u001b[0;32mNone\u001b[0m\u001b[0;34m,\u001b[0m\u001b[0;34m\u001b[0m\n",
       "\u001b[0;34m\u001b[0m    \u001b[0mmasks\u001b[0m\u001b[0;34m=\u001b[0m\u001b[0;32mNone\u001b[0m\u001b[0;34m,\u001b[0m\u001b[0;34m\u001b[0m\n",
       "\u001b[0;34m\u001b[0m\u001b[0;34m)\u001b[0m\u001b[0;34m\u001b[0m\u001b[0;34m\u001b[0m\u001b[0m\n",
       "\u001b[0;31mDocstring:\u001b[0m     \n",
       "Wandb class for images.\n",
       "\n",
       "Args:\n",
       "    data_or_path (numpy array | string | io): Accepts numpy array of\n",
       "        image data, or a PIL image. The class attempts to infer\n",
       "        the data format and converts it.\n",
       "    mode (string): The PIL mode for an image. Most common are \"L\", \"RGB\",\n",
       "        \"RGBA\". Full explanation at https://pillow.readthedocs.io/en/4.2.x/handbook/concepts.html#concept-modes.\n",
       "    caption (string): Label for display of image.\n",
       "\u001b[0;31mFile:\u001b[0m           ~/anaconda3/envs/caldera/lib/python3.7/site-packages/wandb/data_types.py\n",
       "\u001b[0;31mType:\u001b[0m           type\n",
       "\u001b[0;31mSubclasses:\u001b[0m     \n"
      ]
     },
     "metadata": {},
     "output_type": "display_data"
    }
   ],
   "source": [
    "wandb.Image?"
   ]
  },
  {
   "cell_type": "code",
   "execution_count": 52,
   "metadata": {},
   "outputs": [
    {
     "name": "stderr",
     "output_type": "stream",
     "text": [
      "Failed to query for notebook name, you can set it manually with the WANDB_NOTEBOOK_NAME environment variable\n",
      "\u001b[34m\u001b[1mwandb\u001b[0m: Wandb version 0.10.4 is available!  To upgrade, please run:\n",
      "\u001b[34m\u001b[1mwandb\u001b[0m:  $ pip install wandb --upgrade\n"
     ]
    }
   ],
   "source": [
    "import wandb\n",
    "import io\n",
    "from PIL import Image\n",
    "import matplotlib.pyplot as plt\n",
    "\n",
    "def fig_to_pil(fig):\n",
    "    buf = io.BytesIO()\n",
    "    fig.savefig(buf, format='png')\n",
    "    buf.seek(0)\n",
    "    im = Image.open(buf)\n",
    "#     buf.close()\n",
    "    return im\n",
    "\n",
    "wandb_logger.experiment.log({'s': [wandb.Image(fig_to_pil(fig))]} )"
   ]
  },
  {
   "cell_type": "code",
   "execution_count": 47,
   "metadata": {},
   "outputs": [
    {
     "data": {
      "text/plain": [
       "\u001b[0;31mInit signature:\u001b[0m\n",
       "\u001b[0mwandb\u001b[0m\u001b[0;34m.\u001b[0m\u001b[0mImage\u001b[0m\u001b[0;34m(\u001b[0m\u001b[0;34m\u001b[0m\n",
       "\u001b[0;34m\u001b[0m    \u001b[0mdata_or_path\u001b[0m\u001b[0;34m,\u001b[0m\u001b[0;34m\u001b[0m\n",
       "\u001b[0;34m\u001b[0m    \u001b[0mmode\u001b[0m\u001b[0;34m=\u001b[0m\u001b[0;32mNone\u001b[0m\u001b[0;34m,\u001b[0m\u001b[0;34m\u001b[0m\n",
       "\u001b[0;34m\u001b[0m    \u001b[0mcaption\u001b[0m\u001b[0;34m=\u001b[0m\u001b[0;32mNone\u001b[0m\u001b[0;34m,\u001b[0m\u001b[0;34m\u001b[0m\n",
       "\u001b[0;34m\u001b[0m    \u001b[0mgrouping\u001b[0m\u001b[0;34m=\u001b[0m\u001b[0;32mNone\u001b[0m\u001b[0;34m,\u001b[0m\u001b[0;34m\u001b[0m\n",
       "\u001b[0;34m\u001b[0m    \u001b[0mboxes\u001b[0m\u001b[0;34m=\u001b[0m\u001b[0;32mNone\u001b[0m\u001b[0;34m,\u001b[0m\u001b[0;34m\u001b[0m\n",
       "\u001b[0;34m\u001b[0m    \u001b[0mmasks\u001b[0m\u001b[0;34m=\u001b[0m\u001b[0;32mNone\u001b[0m\u001b[0;34m,\u001b[0m\u001b[0;34m\u001b[0m\n",
       "\u001b[0;34m\u001b[0m\u001b[0;34m)\u001b[0m\u001b[0;34m\u001b[0m\u001b[0;34m\u001b[0m\u001b[0m\n",
       "\u001b[0;31mDocstring:\u001b[0m     \n",
       "Wandb class for images.\n",
       "\n",
       "Args:\n",
       "    data_or_path (numpy array | string | io): Accepts numpy array of\n",
       "        image data, or a PIL image. The class attempts to infer\n",
       "        the data format and converts it.\n",
       "    mode (string): The PIL mode for an image. Most common are \"L\", \"RGB\",\n",
       "        \"RGBA\". Full explanation at https://pillow.readthedocs.io/en/4.2.x/handbook/concepts.html#concept-modes.\n",
       "    caption (string): Label for display of image.\n",
       "\u001b[0;31mFile:\u001b[0m           ~/anaconda3/envs/caldera/lib/python3.7/site-packages/wandb/data_types.py\n",
       "\u001b[0;31mType:\u001b[0m           type\n",
       "\u001b[0;31mSubclasses:\u001b[0m     \n"
      ]
     },
     "metadata": {},
     "output_type": "display_data"
    }
   ],
   "source": [
    "wandb_logger.experiment.lo"
   ]
  },
  {
   "cell_type": "code",
   "execution_count": 44,
   "metadata": {},
   "outputs": [
    {
     "data": {
      "text/plain": [
       "'<_io.BytesIO object at 0x7f7c18d6a410>'"
      ]
     },
     "execution_count": 44,
     "metadata": {},
     "output_type": "execute_result"
    }
   ],
   "source": [
    "import io\n",
    "from PIL import Image\n",
    "import matplotlib.pyplot as plt\n",
    "\n",
    "buf = io.BytesIO()\n",
    "fig.savefig(buf, format='png')\n",
    "buf.seek(0)\n",
    "im = Image.open(buf)\n",
    "im.show()\n",
    "buf.close()\n",
    "\n",
    "str(buf)"
   ]
  },
  {
   "cell_type": "code",
   "execution_count": 124,
   "metadata": {},
   "outputs": [
    {
     "data": {
      "image/png": "[encoded data removed]",
      "text/plain": [
       "<Figure size 360x180 with 2 Axes>"
      ]
     },
     "metadata": {},
     "output_type": "display_data"
    }
   ],
   "source": [
    "def comparison_plot(out_g, expected_g):\n",
    "    fig, axes = plt.subplots(1, 2, figsize=(5, 2.5))\n",
    "    axes[0].axis('off')\n",
    "    axes[1].axis('off')\n",
    "    \n",
    "    axes[0].set_title(\"out\")\n",
    "    plot_graph(out_g, axes[0], cm.plasma)\n",
    "    \n",
    "    axes[1].set_title(\"expected\")\n",
    "    plot_graph(expected_g, axes[1], cm.plasma)\n",
    "x, y = data.eval_loader().first()\n",
    "y_hat = training_module.model.forward(x, 10)[-1]\n",
    "y_graphs = y.to_networkx_list()\n",
    "y_hat_graphs = y_hat.to_networkx_list()\n",
    "\n",
    "idx = 0\n",
    "yg = y_graphs[idx]\n",
    "yhg = y_hat_graphs[idx]\n",
    "comparison_plot(yhg, yg)"
   ]
  },
  {
   "cell_type": "code",
   "execution_count": 18,
   "metadata": {},
   "outputs": [],
   "source": [
    "g = random_graph((100, 150), d=(0.01, 0.03), e=None)\n",
    "\n",
    "\n",
    "annotate_shortest_path(g)\n",
    "# nx.draw(g)\n",
    "pos = nx.layout.spring_layout(g)\n",
    "nodelist = list(g.nodes)\n",
    "node_color = []\n",
    "for n in nodelist:\n",
    "    node_color.append(g.nodes[n]['target'][0])\n",
    "edge_list = []\n",
    "edge_color = []\n",
    "for n1, n2, edata in g.edges(data=True):\n",
    "    edge_list.append((n1, n2))\n",
    "    edge_color.append(edata['target'][0])\n",
    "print(node_color)\n",
    "nx.draw_networkx_edges(g, pos=pos, width=0.5, edge_color=edge_color)\n",
    "nx.draw_networkx_nodes(g, pos=pos, node_color=node_color, node_size=10)\n"
   ]
  },
  {
   "cell_type": "code",
   "execution_count": 10,
   "metadata": {},
   "outputs": [
    {
     "data": {
      "text/plain": [
       "\u001b[0;31mInit signature:\u001b[0m\n",
       "\u001b[0mNetworkxAttachNumpyBool\u001b[0m\u001b[0;34m(\u001b[0m\u001b[0;34m\u001b[0m\n",
       "\u001b[0;34m\u001b[0m    \u001b[0mx\u001b[0m\u001b[0;34m:\u001b[0m \u001b[0mstr\u001b[0m\u001b[0;34m,\u001b[0m\u001b[0;34m\u001b[0m\n",
       "\u001b[0;34m\u001b[0m    \u001b[0mfrom_key\u001b[0m\u001b[0;34m:\u001b[0m \u001b[0mstr\u001b[0m\u001b[0;34m,\u001b[0m\u001b[0;34m\u001b[0m\n",
       "\u001b[0;34m\u001b[0m    \u001b[0mto_key\u001b[0m\u001b[0;34m:\u001b[0m \u001b[0mstr\u001b[0m\u001b[0;34m,\u001b[0m\u001b[0;34m\u001b[0m\n",
       "\u001b[0;34m\u001b[0m    \u001b[0;34m*\u001b[0m\u001b[0;34m,\u001b[0m\u001b[0;34m\u001b[0m\n",
       "\u001b[0;34m\u001b[0m    \u001b[0mdefault\u001b[0m\u001b[0;34m:\u001b[0m \u001b[0mAny\u001b[0m \u001b[0;34m=\u001b[0m \u001b[0mEllipsis\u001b[0m\u001b[0;34m,\u001b[0m\u001b[0;34m\u001b[0m\n",
       "\u001b[0;34m\u001b[0m    \u001b[0mjoin_func\u001b[0m\u001b[0;34m:\u001b[0m \u001b[0mstr\u001b[0m \u001b[0;34m=\u001b[0m \u001b[0;34m'hstack'\u001b[0m\u001b[0;34m,\u001b[0m\u001b[0;34m\u001b[0m\n",
       "\u001b[0;34m\u001b[0m    \u001b[0mglobal_key\u001b[0m\u001b[0;34m:\u001b[0m \u001b[0mstr\u001b[0m \u001b[0;34m=\u001b[0m \u001b[0;32mNone\u001b[0m\u001b[0;34m,\u001b[0m\u001b[0;34m\u001b[0m\n",
       "\u001b[0;34m\u001b[0m    \u001b[0mclasses\u001b[0m\u001b[0;34m:\u001b[0m \u001b[0mList\u001b[0m\u001b[0;34m[\u001b[0m\u001b[0mstr\u001b[0m\u001b[0;34m]\u001b[0m \u001b[0;34m=\u001b[0m \u001b[0;32mNone\u001b[0m\u001b[0;34m,\u001b[0m\u001b[0;34m\u001b[0m\n",
       "\u001b[0;34m\u001b[0m    \u001b[0mnum_classes\u001b[0m\u001b[0;34m:\u001b[0m \u001b[0mint\u001b[0m \u001b[0;34m=\u001b[0m \u001b[0;32mNone\u001b[0m\u001b[0;34m,\u001b[0m\u001b[0;34m\u001b[0m\n",
       "\u001b[0;34m\u001b[0m\u001b[0;34m)\u001b[0m\u001b[0;34m\u001b[0m\u001b[0;34m\u001b[0m\u001b[0m\n",
       "\u001b[0;31mDocstring:\u001b[0m     \n",
       "Helper class that provides a standard way to create an ABC using\n",
       "inheritance.\n",
       "\u001b[0;31mInit docstring:\u001b[0m\n",
       "Initialize transform that converts encodes networkx into a boolean represented\n",
       " as :class:`np.ndarray` of size 1.\n",
       "\n",
       " E.g. `True` gets encoded as `np.ndarray([1.])`\n",
       "\n",
       ":param x: 'edge', 'node', 'global'\n",
       ":param from_key: dictionary key to find feature\n",
       ":param to_key: new key to attach feature\n",
       ":param default:\n",
       ":param join_func:\n",
       ":param global_key:\n",
       ":param classes:\n",
       ":param num_classes:\n",
       "\u001b[0;31mFile:\u001b[0m           ~/Github/caldera/caldera/transforms/networkx/_nx_attach_np_features.py\n",
       "\u001b[0;31mType:\u001b[0m           ABCMeta\n",
       "\u001b[0;31mSubclasses:\u001b[0m     \n"
      ]
     },
     "metadata": {},
     "output_type": "display_data"
    }
   ],
   "source": [
    "NetworkxAttachNumpyBool?"
   ]
  },
  {
   "cell_type": "code",
   "execution_count": 19,
   "metadata": {},
   "outputs": [
    {
     "data": {
      "text/plain": [
       "NodeDataView({0: {'features': tensor([1.])}, 1: {'features': tensor([0.])}, 2: {'features': tensor([0.])}, 3: {'features': tensor([0.])}, 4: {'features': tensor([0.])}, 5: {'features': tensor([0.])}, 6: {'features': tensor([0.])}, 7: {'features': tensor([0.])}, 8: {'features': tensor([0.])}, 9: {'features': tensor([0.])}, 10: {'features': tensor([0.])}, 11: {'features': tensor([0.])}, 12: {'features': tensor([0.])}, 13: {'features': tensor([0.])}, 14: {'features': tensor([0.])}, 15: {'features': tensor([0.])}, 16: {'features': tensor([0.])}, 17: {'features': tensor([0.])}, 18: {'features': tensor([0.])}, 19: {'features': tensor([0.])}, 20: {'features': tensor([0.])}, 21: {'features': tensor([0.])}, 22: {'features': tensor([0.])}, 23: {'features': tensor([0.])}, 24: {'features': tensor([0.])}, 25: {'features': tensor([0.])}, 26: {'features': tensor([0.])}, 27: {'features': tensor([0.])}, 28: {'features': tensor([0.])}, 29: {'features': tensor([0.])}, 30: {'features': tensor([0.])}, 31: {'features': tensor([0.])}, 32: {'features': tensor([0.])}, 33: {'features': tensor([0.])}, 34: {'features': tensor([0.])}, 35: {'features': tensor([0.])}, 36: {'features': tensor([1.])}, 37: {'features': tensor([1.])}, 38: {'features': tensor([0.])}})"
      ]
     },
     "execution_count": 19,
     "metadata": {},
     "output_type": "execute_result"
    }
   ],
   "source": [
    "g.nodes(data=True)"
   ]
  },
  {
   "cell_type": "code",
   "execution_count": 31,
   "metadata": {},
   "outputs": [
    {
     "ename": "TypeError",
     "evalue": "add_edge() argument after ** must be a mapping, not NoneType",
     "output_type": "error",
     "traceback": [
      "\u001b[0;31m---------------------------------------------------------------------------\u001b[0m",
      "\u001b[0;31mTypeError\u001b[0m                                 Traceback (most recent call last)",
      "\u001b[0;32m<ipython-input-31-5c9cd7b27322>\u001b[0m in \u001b[0;36m<module>\u001b[0;34m\u001b[0m\n\u001b[1;32m      1\u001b[0m \u001b[0;32mfrom\u001b[0m \u001b[0mcaldera\u001b[0m\u001b[0;34m.\u001b[0m\u001b[0mtransforms\u001b[0m\u001b[0;34m.\u001b[0m\u001b[0mnetworkx\u001b[0m \u001b[0;32mimport\u001b[0m \u001b[0mNetworkxApplyToFeature\u001b[0m\u001b[0;34m\u001b[0m\u001b[0;34m\u001b[0m\u001b[0m\n\u001b[1;32m      2\u001b[0m \u001b[0;34m\u001b[0m\u001b[0m\n\u001b[0;32m----> 3\u001b[0;31m \u001b[0mNetworkxApplyToFeature\u001b[0m\u001b[0;34m(\u001b[0m\u001b[0;34m'features'\u001b[0m\u001b[0;34m,\u001b[0m \u001b[0medge_func\u001b[0m\u001b[0;34m=\u001b[0m \u001b[0;32mlambda\u001b[0m \u001b[0mx\u001b[0m\u001b[0;34m:\u001b[0m \u001b[0mlist\u001b[0m\u001b[0;34m(\u001b[0m\u001b[0mx\u001b[0m\u001b[0;34m)\u001b[0m\u001b[0;34m)\u001b[0m\u001b[0;34m(\u001b[0m\u001b[0mg\u001b[0m\u001b[0;34m)\u001b[0m\u001b[0;34m\u001b[0m\u001b[0;34m\u001b[0m\u001b[0m\n\u001b[0m",
      "\u001b[0;32m~/Github/caldera/caldera/transforms/networkx/_base.py\u001b[0m in \u001b[0;36m__call__\u001b[0;34m(self, data)\u001b[0m\n\u001b[1;32m     49\u001b[0m             \u001b[0mtransformed\u001b[0m \u001b[0;34m=\u001b[0m \u001b[0mtuple\u001b[0m\u001b[0;34m(\u001b[0m\u001b[0mself\u001b[0m\u001b[0;34m.\u001b[0m\u001b[0mgenerate\u001b[0m\u001b[0;34m(\u001b[0m\u001b[0mdata\u001b[0m\u001b[0;34m)\u001b[0m\u001b[0;34m)\u001b[0m\u001b[0;34m\u001b[0m\u001b[0;34m\u001b[0m\u001b[0m\n\u001b[1;32m     50\u001b[0m         \u001b[0;32melif\u001b[0m \u001b[0misinstance\u001b[0m\u001b[0;34m(\u001b[0m\u001b[0mdata\u001b[0m\u001b[0;34m,\u001b[0m \u001b[0mnx\u001b[0m\u001b[0;34m.\u001b[0m\u001b[0mGraph\u001b[0m\u001b[0;34m)\u001b[0m\u001b[0;34m:\u001b[0m\u001b[0;34m\u001b[0m\u001b[0;34m\u001b[0m\u001b[0m\n\u001b[0;32m---> 51\u001b[0;31m             \u001b[0mtransformed\u001b[0m \u001b[0;34m=\u001b[0m \u001b[0mlist\u001b[0m\u001b[0;34m(\u001b[0m\u001b[0mself\u001b[0m\u001b[0;34m.\u001b[0m\u001b[0mgenerate\u001b[0m\u001b[0;34m(\u001b[0m\u001b[0;34m[\u001b[0m\u001b[0mdata\u001b[0m\u001b[0;34m]\u001b[0m\u001b[0;34m)\u001b[0m\u001b[0;34m)\u001b[0m\u001b[0;34m[\u001b[0m\u001b[0;36m0\u001b[0m\u001b[0;34m]\u001b[0m\u001b[0;34m\u001b[0m\u001b[0;34m\u001b[0m\u001b[0m\n\u001b[0m\u001b[1;32m     52\u001b[0m         \u001b[0;32melse\u001b[0m\u001b[0;34m:\u001b[0m\u001b[0;34m\u001b[0m\u001b[0;34m\u001b[0m\u001b[0m\n\u001b[1;32m     53\u001b[0m             \u001b[0mtransformed\u001b[0m \u001b[0;34m=\u001b[0m \u001b[0mself\u001b[0m\u001b[0;34m.\u001b[0m\u001b[0mgenerate\u001b[0m\u001b[0;34m(\u001b[0m\u001b[0mdata\u001b[0m\u001b[0;34m)\u001b[0m\u001b[0;34m\u001b[0m\u001b[0;34m\u001b[0m\u001b[0m\n",
      "\u001b[0;32m~/Github/caldera/caldera/transforms/networkx/_base.py\u001b[0m in \u001b[0;36mgenerate\u001b[0;34m(self, datalist)\u001b[0m\n\u001b[1;32m     25\u001b[0m     \u001b[0;32mdef\u001b[0m \u001b[0mgenerate\u001b[0m\u001b[0;34m(\u001b[0m\u001b[0mself\u001b[0m\u001b[0;34m,\u001b[0m \u001b[0mdatalist\u001b[0m\u001b[0;34m:\u001b[0m \u001b[0mUnion\u001b[0m\u001b[0;34m[\u001b[0m\u001b[0mList\u001b[0m\u001b[0;34m[\u001b[0m\u001b[0m_G\u001b[0m\u001b[0;34m]\u001b[0m\u001b[0;34m,\u001b[0m \u001b[0mTuple\u001b[0m\u001b[0;34m[\u001b[0m\u001b[0m_G\u001b[0m\u001b[0;34m,\u001b[0m \u001b[0;34m...\u001b[0m\u001b[0;34m]\u001b[0m\u001b[0;34m,\u001b[0m \u001b[0mGenerator\u001b[0m\u001b[0;34m[\u001b[0m\u001b[0m_G\u001b[0m\u001b[0;34m,\u001b[0m \u001b[0;32mNone\u001b[0m\u001b[0;34m,\u001b[0m \u001b[0;32mNone\u001b[0m\u001b[0;34m]\u001b[0m\u001b[0;34m]\u001b[0m\u001b[0;34m)\u001b[0m \u001b[0;34m->\u001b[0m \u001b[0mGenerator\u001b[0m\u001b[0;34m[\u001b[0m\u001b[0m_G\u001b[0m\u001b[0;34m,\u001b[0m \u001b[0;32mNone\u001b[0m\u001b[0;34m,\u001b[0m \u001b[0;32mNone\u001b[0m\u001b[0;34m]\u001b[0m\u001b[0;34m:\u001b[0m\u001b[0;34m\u001b[0m\u001b[0;34m\u001b[0m\u001b[0m\n\u001b[1;32m     26\u001b[0m         \u001b[0;32mfor\u001b[0m \u001b[0mdata\u001b[0m \u001b[0;32min\u001b[0m \u001b[0mdatalist\u001b[0m\u001b[0;34m:\u001b[0m\u001b[0;34m\u001b[0m\u001b[0;34m\u001b[0m\u001b[0m\n\u001b[0;32m---> 27\u001b[0;31m             \u001b[0;32myield\u001b[0m \u001b[0mself\u001b[0m\u001b[0;34m.\u001b[0m\u001b[0mtransform\u001b[0m\u001b[0;34m(\u001b[0m\u001b[0mdata\u001b[0m\u001b[0;34m)\u001b[0m\u001b[0;34m\u001b[0m\u001b[0;34m\u001b[0m\u001b[0m\n\u001b[0m\u001b[1;32m     28\u001b[0m \u001b[0;34m\u001b[0m\u001b[0m\n\u001b[1;32m     29\u001b[0m     \u001b[0;34m@\u001b[0m\u001b[0moverload\u001b[0m\u001b[0;34m\u001b[0m\u001b[0;34m\u001b[0m\u001b[0m\n",
      "\u001b[0;32m~/Github/caldera/caldera/transforms/networkx/_nx_feature_transform.py\u001b[0m in \u001b[0;36mtransform\u001b[0;34m(self, g)\u001b[0m\n\u001b[1;32m     61\u001b[0m             \u001b[0mnode_transform\u001b[0m\u001b[0;34m=\u001b[0m\u001b[0mself\u001b[0m\u001b[0;34m.\u001b[0m\u001b[0mnode_transform\u001b[0m\u001b[0;34m,\u001b[0m\u001b[0;34m\u001b[0m\u001b[0;34m\u001b[0m\u001b[0m\n\u001b[1;32m     62\u001b[0m             \u001b[0medge_transform\u001b[0m\u001b[0;34m=\u001b[0m\u001b[0mself\u001b[0m\u001b[0;34m.\u001b[0m\u001b[0medge_transform\u001b[0m\u001b[0;34m,\u001b[0m\u001b[0;34m\u001b[0m\u001b[0;34m\u001b[0m\u001b[0m\n\u001b[0;32m---> 63\u001b[0;31m             \u001b[0mglobal_transform\u001b[0m\u001b[0;34m=\u001b[0m\u001b[0mself\u001b[0m\u001b[0;34m.\u001b[0m\u001b[0mglobal_transform\u001b[0m\u001b[0;34m,\u001b[0m\u001b[0;34m\u001b[0m\u001b[0;34m\u001b[0m\u001b[0m\n\u001b[0m\u001b[1;32m     64\u001b[0m         )\n\u001b[1;32m     65\u001b[0m \u001b[0;34m\u001b[0m\u001b[0m\n",
      "\u001b[0;32m~/Github/caldera/caldera/utils/nx/_tools.py\u001b[0m in \u001b[0;36mnx_copy\u001b[0;34m(from_graph, to_graph, node_transform, edge_transform, global_transform, global_attr_key, deepcopy)\u001b[0m\n\u001b[1;32m    146\u001b[0m         \u001b[0;32mif\u001b[0m \u001b[0mdeepcopy\u001b[0m\u001b[0;34m:\u001b[0m\u001b[0;34m\u001b[0m\u001b[0;34m\u001b[0m\u001b[0m\n\u001b[1;32m    147\u001b[0m             \u001b[0mn1\u001b[0m\u001b[0;34m,\u001b[0m \u001b[0mn2\u001b[0m\u001b[0;34m,\u001b[0m \u001b[0medata\u001b[0m \u001b[0;34m=\u001b[0m \u001b[0mdo_deepcopy\u001b[0m\u001b[0;34m(\u001b[0m\u001b[0;34m(\u001b[0m\u001b[0mn1\u001b[0m\u001b[0;34m,\u001b[0m \u001b[0mn2\u001b[0m\u001b[0;34m,\u001b[0m \u001b[0medata\u001b[0m\u001b[0;34m)\u001b[0m\u001b[0;34m)\u001b[0m\u001b[0;34m\u001b[0m\u001b[0;34m\u001b[0m\u001b[0m\n\u001b[0;32m--> 148\u001b[0;31m         \u001b[0mto_graph\u001b[0m\u001b[0;34m.\u001b[0m\u001b[0madd_edge\u001b[0m\u001b[0;34m(\u001b[0m\u001b[0mmap_node\u001b[0m\u001b[0;34m(\u001b[0m\u001b[0mn1\u001b[0m\u001b[0;34m)\u001b[0m\u001b[0;34m,\u001b[0m \u001b[0mmap_node\u001b[0m\u001b[0;34m(\u001b[0m\u001b[0mn2\u001b[0m\u001b[0;34m)\u001b[0m\u001b[0;34m,\u001b[0m \u001b[0;34m**\u001b[0m\u001b[0medata\u001b[0m\u001b[0;34m)\u001b[0m\u001b[0;34m\u001b[0m\u001b[0;34m\u001b[0m\u001b[0m\n\u001b[0m\u001b[1;32m    149\u001b[0m \u001b[0;34m\u001b[0m\u001b[0m\n\u001b[1;32m    150\u001b[0m     if hasattr(from_graph, GraphWithGlobal.get_global.__name__) and hasattr(\n",
      "\u001b[0;31mTypeError\u001b[0m: add_edge() argument after ** must be a mapping, not NoneType"
     ]
    }
   ],
   "source": [
    "from caldera.transforms.networkx import NetworkxApplyToFeature\n",
    "\n",
    "NetworkxApplyToFeature('features', edge_func= lambda x: list(x))(g)"
   ]
  },
  {
   "cell_type": "code",
   "execution_count": 162,
   "metadata": {},
   "outputs": [
    {
     "data": {
      "application/vnd.jupyter.widget-view+json": {
       "model_id": "eabbba7705e74774aea5950188e0001a",
       "version_major": 2,
       "version_minor": 0
      },
      "text/plain": [
       "Output()"
      ]
     },
     "metadata": {},
     "output_type": "display_data"
    },
    {
     "data": {
      "text/html": [
       "<pre style=\"white-space:pre;overflow-x:auto;line-height:normal;font-family:Menlo,'DejaVu Sans Mono',consolas,'Courier New',monospace\">sending to child\n",
       "</pre>\n"
      ],
      "text/plain": [
       "<rich.jupyter.JupyterRenderable at 0x7fa3f46352d0>"
      ]
     },
     "metadata": {},
     "output_type": "display_data"
    },
    {
     "data": {
      "text/html": [
       "<pre style=\"white-space:pre;overflow-x:auto;line-height:normal;font-family:Menlo,'DejaVu Sans Mono',consolas,'Courier New',monospace\">sending to child\n",
       "</pre>\n"
      ],
      "text/plain": [
       "<rich.jupyter.JupyterRenderable at 0x7fa3f4635050>"
      ]
     },
     "metadata": {},
     "output_type": "display_data"
    }
   ],
   "source": [
    "import time\n",
    "\n",
    "from rich.progress import Progress as RichProgress\n",
    "from contextlib import contextmanager\n",
    "from dataclasses import dataclass\n",
    "\n",
    "@dataclass\n",
    "class TaskEvent:\n",
    "    task_id: int\n",
    "    name: str\n",
    "\n",
    "\n",
    "class TaskProgress(object):\n",
    "    DEFAULT_REFRESH_PER_SECOND = 4.\n",
    "\n",
    "    def __init__(self,\n",
    "                 progress = None,\n",
    "                 task_id: int = None,\n",
    "                 refresh_rate_per_second: int = DEFAULT_REFRESH_PER_SECOND,\n",
    "                 parent = None):\n",
    "        self.task_id = task_id\n",
    "        self.children = []\n",
    "        self.parent = parent\n",
    "        self.progress = progress or RichProgress()\n",
    "        self.last_updated = time.time()\n",
    "        self.refresh_rate_per_second = refresh_rate_per_second\n",
    "\n",
    "    def self_task(self, *args, **kwargs):\n",
    "        task_id = self.progress.add_task(*args, **kwargs)\n",
    "        self.task_id = task_id\n",
    "\n",
    "    def add_task(self, *args, **kwargs):\n",
    "        task_id = self.progress.add_task(*args, **kwargs)\n",
    "        new_task = self.__class__(self.progress, task_id, self.refresh_rate_per_second, parent=self)\n",
    "        self.children.append(new_task)\n",
    "        return new_task\n",
    "\n",
    "    @property\n",
    "    def _task(self):\n",
    "        return self.progress.tasks[self.task_id]\n",
    "\n",
    "    def listen(self, event: TaskEvent):\n",
    "        if event.name == 'refresh':\n",
    "            completed = sum(t._task.completed for t in self.children)\n",
    "            total = sum(t._task.total for t in self.children)\n",
    "            self.update(completed=completed/total, total=1., refresh=True)\n",
    "        elif event.name == 'finished':\n",
    "            self.finish()\n",
    "\n",
    "    def emit_up(self, event_name):\n",
    "        if self.parent:\n",
    "            self.parent.listen(TaskEvent(task_id=self.task_id, name=event_name))\n",
    "\n",
    "    def emit_down(self, event_name: TaskEvent):\n",
    "        for child in self.children:\n",
    "            print(\"sending to child\")\n",
    "            child.listen(TaskEvent(task_id=self.task_id, name=event_name))\n",
    "\n",
    "    def update(self, *args, **kwargs):\n",
    "        now = time.time()\n",
    "        if 'refresh' not in kwargs:\n",
    "            if now - self.last_updated > 1. / self.refresh_rate_per_second:\n",
    "                kwargs['refresh'] = True\n",
    "            else:\n",
    "                kwargs['refresh'] = False\n",
    "                \n",
    "        if kwargs['refresh']:\n",
    "            self.emit_up('refresh')\n",
    "            self.last_updated = now\n",
    "        self.progress.update(self.task_id, *args, **kwargs)\n",
    "\n",
    "    def is_complete(self):\n",
    "        return self.completed >= self.task.total\n",
    "\n",
    "    def finish(self):\n",
    "        self.progress.update(self.task_id, completed=self._task.total, refresh=True)\n",
    "        self.emit_down('finished')\n",
    "\n",
    "    def __enter__(self):\n",
    "        return self\n",
    "\n",
    "    def __exit__(self, exc_type, exc_val, exc_tb):\n",
    "        self.progress.__exit__(exc_type, exc_val, exc_tb)\n",
    "        self.finish()\n",
    "\n",
    "\n",
    "with TaskProgress() as progress:\n",
    "    progress.self_task('main', total=10)\n",
    "    bar1 = progress.add_task('bar1', total=10)\n",
    "    bar2 = progress.add_task('bar2', total=10)\n",
    "    for _ in range(10):\n",
    "        bar1.update(advance=1)\n",
    "        time.sleep(0.1)\n",
    "    for _ in range(10):\n",
    "        bar2.update(advance=1)\n",
    "        time.sleep(0.1)\n"
   ]
  },
  {
   "cell_type": "code",
   "execution_count": 62,
   "metadata": {},
   "outputs": [
    {
     "data": {
      "text/plain": [
       "100"
      ]
     },
     "execution_count": 62,
     "metadata": {},
     "output_type": "execute_result"
    }
   ],
   "source": [
    "bar.progress.tasks[0].completed"
   ]
  },
  {
   "cell_type": "code",
   "execution_count": null,
   "metadata": {},
   "outputs": [],
   "source": []
  }
 ],
 "metadata": {
  "kernelspec": {
   "display_name": "Python 3",
   "language": "python",
   "name": "python3"
  },
  "language_info": {
   "codemirror_mode": {
    "name": "ipython",
    "version": 3
   },
   "file_extension": ".py",
   "mimetype": "text/x-python",
   "name": "python",
   "nbconvert_exporter": "python",
   "pygments_lexer": "ipython3",
   "version": "3.7.7"
  }
 },
 "nbformat": 4,
 "nbformat_minor": 4
}
