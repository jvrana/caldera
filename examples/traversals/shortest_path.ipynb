{
 "cells": [
  {
   "cell_type": "code",
   "execution_count": 1,
   "metadata": {},
   "outputs": [],
   "source": [
    "import sys\n",
    "\n",
    "sys.path.insert(0, \"../..\")\n",
    "import sys\n",
    "import os"
   ]
  },
  {
   "cell_type": "code",
   "execution_count": 4,
   "metadata": {},
   "outputs": [
    {
     "name": "stdout",
     "output_type": "stream",
     "text": [
      "\u001b[0m\u001b[01;34mcaldera\u001b[0m/         \u001b[01;34mexamples\u001b[0m/  poetry.lock     README.md         \u001b[01;34mtmp\u001b[0m/\n",
      "\u001b[01;34mdocsrc\u001b[0m/          LICENSE    pyproject.toml  requirements.txt\n",
      "environment.yml  Makefile   pytest.ini      \u001b[01;34mtests\u001b[0m/\n"
     ]
    }
   ],
   "source": [
    "ls ../.."
   ]
  },
  {
   "cell_type": "code",
   "execution_count": 83,
   "metadata": {},
   "outputs": [
    {
     "name": "stdout",
     "output_type": "stream",
     "text": [
      "{'edge': {'keys': {'_target': {<class 'numpy.ndarray'>},\n",
      "                   'shortest_path': {<class 'bool'>}}},\n",
      " 'global': {'keys': {}},\n",
      " 'node': {'keys': {'_features': {<class 'numpy.ndarray'>},\n",
      "                   '_target': {<class 'numpy.ndarray'>},\n",
      "                   'shortest_path': {<class 'bool'>},\n",
      "                   'source': {<class 'bool'>},\n",
      "                   'target': {<class 'bool'>}}}}\n"
     ]
    },
    {
     "data": {
      "image/png": "[encoded data removed]",
      "text/plain": [
       "<Figure size 216x216 with 1 Axes>"
      ]
     },
     "metadata": {},
     "output_type": "display_data"
    }
   ],
   "source": [
    "from caldera.testing import annotate_shortest_path, random_graph, feature_info, random_node, _resolve_range\n",
    "from caldera.utils.nx.convert import add_default, nx_collect_features, flatten_edges, flatten_global, flatten_nodes\n",
    "from pprint import pprint\n",
    "import networkx as nx\n",
    "import uuid\n",
    "import itertools\n",
    "import pylab as plt\n",
    "\n",
    "\n",
    "%matplotlib inline\n",
    "\n",
    "def unode():\n",
    "    return str(uuid.uuid4())[-5:]\n",
    "\n",
    "def line_path(nodes):\n",
    "    g = nx.DiGraph()\n",
    "    for n1, n2 in nx.utils.pairwise(nodes):\n",
    "        g.add_edge(n1, n2)\n",
    "    return g\n",
    "\n",
    "def compose_and_connect(g, h, density):\n",
    "    \"\"\"Compose graphs and add edges to compute the density\"\"\"\n",
    "    i = nx.compose(g, h)\n",
    "    \n",
    "    existing_edges = 0\n",
    "    possible_edges = g.size() * h.size()\n",
    "    for n1, n2 in i.edges():\n",
    "        if (n1 in g and n2 in h) or (n2 in g and n1 in h):\n",
    "            existing_edges += 1\n",
    "            \n",
    "    num_new_edges = int(possible_edges * density - existing_edges)\n",
    "    for _ in range(num_new_edges):\n",
    "        n1 = random_node(g)\n",
    "        n2 = random_node(h)\n",
    "        i.add_edge(n1, n2)\n",
    "    return i\n",
    "\n",
    "def annotate_shortest_path(\n",
    "    g: nx.Graph,\n",
    "    annotate_nodes: bool = True,\n",
    "    annotate_edges: bool = True,\n",
    "    source_key: str = \"source\",\n",
    "    target_key: str = \"target\",\n",
    "    path_key: str = \"shortest_path\",\n",
    "    source: str = None,\n",
    "    target: str = None\n",
    ") -> nx.Graph:\n",
    "    \"\"\"\n",
    "    \n",
    "    :param g: \n",
    "    :param annotate_nodes: \n",
    "    :param annotate_edges: \n",
    "    :param source_key: \n",
    "    :param target_key: \n",
    "    :param path_key: \n",
    "    :param source: \n",
    "    :param target: \n",
    "    :return: \n",
    "    \"\"\"\n",
    "    if not annotate_edges and not annotate_nodes:\n",
    "        raise ValueError(\"Must annotate either nodes or edges (or both)\")\n",
    "    source = source or random_node(g)\n",
    "    target = target or random_node(g)\n",
    "\n",
    "    g.nodes[source][source_key] = True\n",
    "    g.nodes[target][target_key] = True\n",
    "\n",
    "    try:\n",
    "        path = nx.shortest_path(g, source=source, target=target)\n",
    "    except nx.NetworkXNoPath:\n",
    "        path = []\n",
    "\n",
    "    add_default(g, node_data={target_key: False, source_key: False, path_key: False})\n",
    "    add_default(g, edge_data={path_key: False})\n",
    "\n",
    "    if annotate_nodes:\n",
    "        for n in path:\n",
    "            g.nodes[n][path_key] = True\n",
    "\n",
    "    if annotate_edges:\n",
    "        for n1, n2 in nx.utils.pairwise(path):\n",
    "            g.edges[(n1, n2)][path_key] = True\n",
    "\n",
    "\n",
    "def generate_shorest_path_example(n_nodes, density, path_length):\n",
    "    d = _resolve_range(density)\n",
    "    l = _resolve_range(path_length)\n",
    "    _path = [unode() for _ in range(l)]\n",
    "    _g = random_graph(n_nodes, density=d)\n",
    "    _h = line_path(_path)\n",
    "    g = compose_and_connect(_g, _h, d)\n",
    "\n",
    "\n",
    "    annotate_shortest_path(g, \n",
    "                           True, True, \n",
    "                           source_key='source', \n",
    "                           target_key='target', \n",
    "                           path_key='shortest_path', \n",
    "                           source=_path[0], \n",
    "                           target=_path[-1]\n",
    "                          )\n",
    "\n",
    "    add_default(g, node_data={'source': False, 'target': False, 'shortest_path': False})\n",
    "    add_default(g, edge_data={'shortest_path': False})\n",
    "\n",
    "    nx_collect_features(g, 'node', 'source', '_features', encoding='onehot', classes=[False, True])\n",
    "    nx_collect_features(g, 'node', 'target', '_features', encoding='onehot', classes=[False, True])\n",
    "    nx_collect_features(g, 'node', 'shortest_path', '_target', encoding='onehot', classes=[False, True])\n",
    "    nx_collect_features(g, 'edge', 'shortest_path', '_target', encoding='onehot', classes=[False, True])\n",
    "    return g\n",
    "\n",
    "def draw_shortest_path(g):\n",
    "    pprint(feature_info(g))\n",
    "    fig = plt.figure(figsize=(3, 3))\n",
    "    ax = fig.gca()\n",
    "    ax.axis('off')\n",
    "    nodelist = list(g.nodes)\n",
    "\n",
    "    node_color = []\n",
    "    for n in nodelist:\n",
    "        node_color.append(g.nodes[n]['shortest_path'])\n",
    "\n",
    "    edge_list = []\n",
    "    edge_color = []\n",
    "    for n1, n2, edata in g.edges(data=True):\n",
    "        edge_list.append((n1, n2))\n",
    "        edge_color.append(edata['shortest_path'])\n",
    "\n",
    "    pos = nx.layout.spring_layout(g)\n",
    "    nx.draw_networkx_nodes(g, pos=pos, node_color=node_color, node_size=10, ax=ax)\n",
    "    nx.draw_networkx_edges(g, pos=pos, width=0.5, edge_color=edge_color, ax=ax)\n",
    "    \n",
    "\n",
    "g = generate_shorest_path_example((30, 100), (0.01, 0.03), (3, 15))\n",
    "draw_shortest_path(g)"
   ]
  },
  {
   "cell_type": "code",
   "execution_count": 59,
   "metadata": {},
   "outputs": [
    {
     "data": {
      "text/plain": [
       "'d9e4f43c-ecc3-11ea-bd0e-a5357676c271'"
      ]
     },
     "execution_count": 59,
     "metadata": {},
     "output_type": "execute_result"
    }
   ],
   "source": [
    "import uuid\n",
    "\n",
    "str(uuid.uuid1())"
   ]
  },
  {
   "cell_type": "code",
   "execution_count": 41,
   "metadata": {},
   "outputs": [
    {
     "ename": "TypeError",
     "evalue": "'bool' object is not subscriptable",
     "output_type": "error",
     "traceback": [
      "\u001b[0;31m---------------------------------------------------------------------------\u001b[0m",
      "\u001b[0;31mTypeError\u001b[0m                                 Traceback (most recent call last)",
      "\u001b[0;32m<ipython-input-41-248db3597719>\u001b[0m in \u001b[0;36m<module>\u001b[0;34m\u001b[0m\n\u001b[1;32m      7\u001b[0m \u001b[0mnode_color\u001b[0m \u001b[0;34m=\u001b[0m \u001b[0;34m[\u001b[0m\u001b[0;34m]\u001b[0m\u001b[0;34m\u001b[0m\u001b[0;34m\u001b[0m\u001b[0m\n\u001b[1;32m      8\u001b[0m \u001b[0;32mfor\u001b[0m \u001b[0mn\u001b[0m \u001b[0;32min\u001b[0m \u001b[0mnodelist\u001b[0m\u001b[0;34m:\u001b[0m\u001b[0;34m\u001b[0m\u001b[0;34m\u001b[0m\u001b[0m\n\u001b[0;32m----> 9\u001b[0;31m     \u001b[0mnode_color\u001b[0m\u001b[0;34m.\u001b[0m\u001b[0mappend\u001b[0m\u001b[0;34m(\u001b[0m\u001b[0mg\u001b[0m\u001b[0;34m.\u001b[0m\u001b[0mnodes\u001b[0m\u001b[0;34m[\u001b[0m\u001b[0mn\u001b[0m\u001b[0;34m]\u001b[0m\u001b[0;34m[\u001b[0m\u001b[0;34m'target'\u001b[0m\u001b[0;34m]\u001b[0m\u001b[0;34m[\u001b[0m\u001b[0;36m0\u001b[0m\u001b[0;34m]\u001b[0m\u001b[0;34m)\u001b[0m\u001b[0;34m\u001b[0m\u001b[0;34m\u001b[0m\u001b[0m\n\u001b[0m\u001b[1;32m     10\u001b[0m \u001b[0;34m\u001b[0m\u001b[0m\n\u001b[1;32m     11\u001b[0m \u001b[0medge_list\u001b[0m \u001b[0;34m=\u001b[0m \u001b[0;34m[\u001b[0m\u001b[0;34m]\u001b[0m\u001b[0;34m\u001b[0m\u001b[0;34m\u001b[0m\u001b[0m\n",
      "\u001b[0;31mTypeError\u001b[0m: 'bool' object is not subscriptable"
     ]
    }
   ],
   "source": [
    "\n",
    "annotate_shortest_path(g)\n",
    "# nx.draw(g)\n",
    "pos = nx.layout.spring_layout(g)\n",
    "\n",
    "\n",
    "nodelist = list(g.nodes)\n",
    "node_color = []\n",
    "for n in nodelist:\n",
    "    node_color.append(g.nodes[n]['target'][0])\n",
    "\n",
    "edge_list = []\n",
    "edge_color = []\n",
    "for n1, n2, edata in g.edges(data=True):\n",
    "    edge_list.append((n1, n2))\n",
    "    edge_color.append(edata['target'][0])\n",
    "print(node_color)\n",
    "\n",
    "# nx.draw_networkx_edges(g, pos=pos, width=0.5, edge_color=edge_color)\n",
    "# nx.draw_networkx_nodes(g, pos=pos, node_color=node_color, node_size="
   ]
  },
  {
   "cell_type": "code",
   "execution_count": null,
   "metadata": {},
   "outputs": [],
   "source": []
  }
 ],
 "metadata": {
  "kernelspec": {
   "display_name": "Python 3",
   "language": "python",
   "name": "python3"
  },
  "language_info": {
   "codemirror_mode": {
    "name": "ipython",
    "version": 3
   },
   "file_extension": ".py",
   "mimetype": "text/x-python",
   "name": "python",
   "nbconvert_exporter": "python",
   "pygments_lexer": "ipython3",
   "version": "3.7.7"
  }
 },
 "nbformat": 4,
 "nbformat_minor": 4
}
