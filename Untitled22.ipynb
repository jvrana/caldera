{
 "cells": [
  {
   "cell_type": "code",
   "execution_count": 1,
   "metadata": {},
   "outputs": [],
   "source": [
    "import torch"
   ]
  },
  {
   "cell_type": "markdown",
   "metadata": {},
   "source": [
    "# Utils"
   ]
  },
  {
   "cell_type": "code",
   "execution_count": 2,
   "metadata": {},
   "outputs": [],
   "source": [
    "from functools import singledispatch\n",
    "import torch\n",
    "import numpy as np\n",
    "from typing import Type\n",
    "\n",
    "@singledispatch\n",
    "def to_one_hot(arr: torch.tensor, num_classes: int):\n",
    "    return torch.nn.functional.one_hot(arr, num_classes)\n",
    "    \n",
    "@to_one_hot.register\n",
    "def _(arr: np.ndarray, num_classes: int):\n",
    "    oh = np.zeros((arr.shape[0], num_classes), dtype=np.long)\n",
    "    for i, a in enumerate(arr):\n",
    "        oh[i, a] = 1.0\n",
    "    return oh "
   ]
  },
  {
   "cell_type": "code",
   "execution_count": 105,
   "metadata": {},
   "outputs": [
    {
     "data": {
      "text/plain": [
       "{1: 5, 2: 6, 3: 7}"
      ]
     },
     "execution_count": 105,
     "metadata": {},
     "output_type": "execute_result"
    }
   ],
   "source": [
    "def dict_join(d1, d2, d3=None, join_fn=None, default1=..., default2=..., keys=None, mode: str = 'union'):\n",
    "    if d3 is None:\n",
    "        d3 = dict()\n",
    "        \n",
    "    if join_fn is None:\n",
    "        def join_fn(v1, v2):\n",
    "            if v2 is not ...:\n",
    "                return v2\n",
    "            if v1 is not ...:\n",
    "                return v1\n",
    "            \n",
    "    if keys is None:\n",
    "        if mode == 'union':\n",
    "            keys = set(d1).union(set(d2))\n",
    "        elif mode == 'intersection':\n",
    "            keys = set(d1).intersection(set(d2))\n",
    "        elif mode == 'left':\n",
    "            keys = set(d1)\n",
    "        elif mode == 'right':\n",
    "            keys = set(d2)\n",
    "        else:\n",
    "            raise ValueError(\"mode '{}' not recognized.\".format(mode))\n",
    "    \n",
    "    def get(d, k, default):\n",
    "        v = d.get(k, default)\n",
    "        return v\n",
    "    \n",
    "    for k in keys:\n",
    "        v1 = get(d1, k, default1)\n",
    "        v2 = get(d2, k, default2)\n",
    "        if v1 is ...:\n",
    "            v3 = v2\n",
    "        elif v2 is ...:\n",
    "            v3 = v1\n",
    "        else:\n",
    "            v3 = join_fn(v1, v2)\n",
    "        d3[k] = v3\n",
    "    return d3\n",
    "\n",
    "\n",
    "d1 = {1: 2, 3: 6}\n",
    "d2 = {1: 3, 2: 5}\n",
    "dict_join(d1, d2, join_fn=lambda a, b: a + b, default1=1, default2=1, mode='union')"
   ]
  },
  {
   "cell_type": "code",
   "execution_count": 106,
   "metadata": {},
   "outputs": [],
   "source": [
    "import networkx as nx\n",
    "import random\n",
    "\n",
    "def random_graph(n, e=None, d=None):\n",
    "    \"\"\"Create a random graph\"\"\"\n",
    "    n = random.randint(*n)\n",
    "    if e is None:\n",
    "        d = random.random() * d[1] + d[0]\n",
    "        e = int((d * n * (n - 1)) / 2)\n",
    "    else:\n",
    "        e = random.randint(*e)\n",
    "    e = max(1, e)\n",
    "    return nx.generators.dense_gnm_random_graph(n, e)\n",
    "\n",
    "\n",
    "def annotate_shortest_path(g):\n",
    "    source, target = np.random.choice(list(g.nodes), size=(2,))\n",
    "\n",
    "    g.nodes[source]['source'] = True\n",
    "    g.nodes[target]['target'] = True\n",
    "    try:\n",
    "        path = nx.shortest_path(g, source=nodes[0], target=nodes[1])\n",
    "    except nx.NetworkXNoPath:\n",
    "        path = []\n",
    "\n",
    "    for n in path:\n",
    "        g.nodes[n]['shortest_path'] = False\n",
    "    for n, ndata in g.nodes(data=True):\n",
    "        ndata['shortest_path'] = target\n",
    "\n",
    "    for n1, n2, edata in g.edges(data=True):\n",
    "        edata['shortest_path'] = False\n",
    "\n",
    "    for n1, n2 in nx.utils.pairwise(path):\n",
    "        g[n1][n2]['shortest_path'] = True\n",
    "\n",
    "\n",
    "def cat_property(from_key, to_key):\n",
    "    pass\n",
    "\n",
    "\n",
    "def from_property_graph_to_graph_data():\n",
    "    pass\n",
    "\n",
    "\n",
    "import networkx as nx\n",
    "from typing import Tuple\n",
    "\n",
    "def collect_nx_features(g, to_key: str, keys: Tuple[str, ...] = None):\n",
    "    pass\n",
    "\n",
    "\n",
    "def create_random_graph():\n",
    "    g = nx.generators.dense_gnm_random_graph(30, 30)\n",
    "    for n, ndata in g.nodes(data=True):\n",
    "        ndata['features'] = True\n",
    "        ndata['target'] = False\n",
    "    for n1, n2, edata in g.edges(data=True):\n",
    "        pass\n",
    "    \n",
    "    return g\n",
    "\n",
    "def extract_one_hot(datalist, key, num_classes: int, default=..., nodelist=None):\n",
    "    \"\"\"Convert a list of dictionaries to one_hot array\"\"\"\n",
    "    feat = []\n",
    "    feat_to_i = {}\n",
    "    i = 0\n",
    "    for ndata in datalist:\n",
    "        if default is not ...:\n",
    "            v = ndata.get(key, default)\n",
    "        else:\n",
    "            v = ndata[key]\n",
    "        if isinstance(v, np.ndarray):\n",
    "            v = v.item()\n",
    "        if v not in feat_to_i:\n",
    "            feat_to_i[v] = i\n",
    "            i += 1\n",
    "        feat.append(feat_to_i[v])\n",
    "    return to_one_hot(np.array(feat), num_classes)"
   ]
  },
  {
   "cell_type": "markdown",
   "metadata": {},
   "source": [
    "# Testing"
   ]
  },
  {
   "cell_type": "code",
   "execution_count": 171,
   "metadata": {},
   "outputs": [],
   "source": [
    "g = create_random_graph()\n",
    "\n",
    "datalist = [ndata for _, ndata in g.nodes(data=True)]\n",
    "data = extract_one_hot(datalist, 'features', 10)\n",
    "\n",
    "d2 = {n: {'_target': d} for n, d in zip(g.nodes, data)}\n",
    "\n",
    "d1 = dict(g.nodes(data=True))\n",
    "\n",
    "def collate(d1, d2, join_fn):\n",
    "    return dict_join(d1, d2, join_fn=lambda a, b: join_fn(a, b))\n",
    "\n",
    "\n",
    "import functools\n",
    "def curry(f):\n",
    "    @functools.wraps(f)\n",
    "    def wrapped(*args, **kwargs):\n",
    "        try:\n",
    "            return f(*args, **kwargs)\n",
    "        except:\n",
    "            return curry(functools.partial(f, *args, **kwargs))\n",
    "    return wrapped\n",
    "\n",
    "def pipe(*funcs):\n",
    "    def wrapped(data):\n",
    "        result = data\n",
    "        for f in funcs:\n",
    "            result = f(result)\n",
    "        return result\n",
    "    return wrapped\n",
    "\n",
    "def fn_partial(*args, **kwargs):\n",
    "    def wrapped(f):\n",
    "        return f(*args, **kwargs)\n",
    "    return wrapped\n",
    "\n",
    "def fn_curry_partial(*args, **kwargs):\n",
    "    def wrapped(f):\n",
    "        return curry(f)(*args, **kwargs)\n",
    "    return wrapped\n",
    "\n",
    "\n",
    "\n",
    "# fn = curry_partial(b=3)\n",
    "# d3 = collate(d1, d2, lambda a, b: dict_join(a, b, mode='right', join_fn=lambda a, b: np.hstack([a, b])))\n",
    "# d4 = collate(d3, d3, lambda a, b: dict_join(a, b, mode='right', join_fn=lambda a, b: np.hstack([a, b])))\n",
    "# d4"
   ]
  },
  {
   "cell_type": "code",
   "execution_count": 125,
   "metadata": {},
   "outputs": [
    {
     "data": {
      "text/plain": [
       "{'_target': array([1, 0, 0, 0, 0, 0, 0, 0, 0, 0, 1, 0, 0, 0, 0, 0, 0, 0, 0, 0]),\n",
       " 'target': array([False, False]),\n",
       " 'features': array([ True,  True])}"
      ]
     },
     "execution_count": 125,
     "metadata": {},
     "output_type": "execute_result"
    }
   ],
   "source": [
    "a = {'_target': np.array([1, 0, 0, 0, 0, 0, 0, 0, 0, 0]),\n",
    "  'target': False,\n",
    "  'features': True}\n",
    "\n",
    "b =  {'_target': np.array([1, 0, 0, 0, 0, 0, 0, 0, 0, 0]),\n",
    "  'target': False,\n",
    "  'features': True}\n",
    "\n",
    "dict_join(a, b, join_fn=lambda a, b: np.hstack([a, b]))"
   ]
  },
  {
   "cell_type": "code",
   "execution_count": null,
   "metadata": {},
   "outputs": [],
   "source": [
    "np.concatenate(np.array([0])"
   ]
  }
 ],
 "metadata": {
  "kernelspec": {
   "display_name": "Python 3",
   "language": "python",
   "name": "python3"
  },
  "language_info": {
   "codemirror_mode": {
    "name": "ipython",
    "version": 3
   },
   "file_extension": ".py",
   "mimetype": "text/x-python",
   "name": "python",
   "nbconvert_exporter": "python",
   "pygments_lexer": "ipython3",
   "version": "3.7.7"
  }
 },
 "nbformat": 4,
 "nbformat_minor": 4
}
